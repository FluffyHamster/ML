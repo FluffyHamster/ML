{
 "cells": [
  {
   "cell_type": "code",
   "execution_count": 1,
   "metadata": {},
   "outputs": [],
   "source": [
    "import pandas as pd\n",
    "import numpy as np"
   ]
  },
  {
   "cell_type": "code",
   "execution_count": 2,
   "metadata": {},
   "outputs": [],
   "source": [
    "data = pd.read_csv(\"201672_2018.csv\", header=None)"
   ]
  },
  {
   "cell_type": "code",
   "execution_count": 3,
   "metadata": {},
   "outputs": [
    {
     "data": {
      "text/html": [
       "<div>\n",
       "<style scoped>\n",
       "    .dataframe tbody tr th:only-of-type {\n",
       "        vertical-align: middle;\n",
       "    }\n",
       "\n",
       "    .dataframe tbody tr th {\n",
       "        vertical-align: top;\n",
       "    }\n",
       "\n",
       "    .dataframe thead th {\n",
       "        text-align: right;\n",
       "    }\n",
       "</style>\n",
       "<table border=\"1\" class=\"dataframe\">\n",
       "  <thead>\n",
       "    <tr style=\"text-align: right;\">\n",
       "      <th></th>\n",
       "      <th>0</th>\n",
       "      <th>1</th>\n",
       "      <th>2</th>\n",
       "    </tr>\n",
       "  </thead>\n",
       "  <tbody>\n",
       "    <tr>\n",
       "      <th>0</th>\n",
       "      <td>2018-01-09 23:59:59</td>\n",
       "      <td>8819600</td>\n",
       "      <td>Выдача наличных денежных средств по УС 201672 ...</td>\n",
       "    </tr>\n",
       "    <tr>\n",
       "      <th>1</th>\n",
       "      <td>2018-01-10 23:59:59</td>\n",
       "      <td>4180500</td>\n",
       "      <td>Выдача наличных денежных средств по УС 201672 ...</td>\n",
       "    </tr>\n",
       "    <tr>\n",
       "      <th>2</th>\n",
       "      <td>2018-01-15 23:59:59</td>\n",
       "      <td>5396600</td>\n",
       "      <td>Выдача наличных денежных средств по УС 201672 ...</td>\n",
       "    </tr>\n",
       "    <tr>\n",
       "      <th>3</th>\n",
       "      <td>2018-01-17 23:59:59</td>\n",
       "      <td>6309000</td>\n",
       "      <td>Выдача наличных денежных средств по УС 201672 ...</td>\n",
       "    </tr>\n",
       "    <tr>\n",
       "      <th>4</th>\n",
       "      <td>2018-01-21 23:59:59</td>\n",
       "      <td>5353900</td>\n",
       "      <td>Выдача наличных денежных средств по УС 201672 ...</td>\n",
       "    </tr>\n",
       "  </tbody>\n",
       "</table>\n",
       "</div>"
      ],
      "text/plain": [
       "                     0        1  \\\n",
       "0  2018-01-09 23:59:59  8819600   \n",
       "1  2018-01-10 23:59:59  4180500   \n",
       "2  2018-01-15 23:59:59  5396600   \n",
       "3  2018-01-17 23:59:59  6309000   \n",
       "4  2018-01-21 23:59:59  5353900   \n",
       "\n",
       "                                                   2  \n",
       "0  Выдача наличных денежных средств по УС 201672 ...  \n",
       "1  Выдача наличных денежных средств по УС 201672 ...  \n",
       "2  Выдача наличных денежных средств по УС 201672 ...  \n",
       "3  Выдача наличных денежных средств по УС 201672 ...  \n",
       "4  Выдача наличных денежных средств по УС 201672 ...  "
      ]
     },
     "execution_count": 3,
     "metadata": {},
     "output_type": "execute_result"
    }
   ],
   "source": [
    "data = pd.DataFrame(data)\n",
    "data.head()"
   ]
  },
  {
   "cell_type": "code",
   "execution_count": 4,
   "metadata": {},
   "outputs": [
    {
     "data": {
      "text/html": [
       "<div>\n",
       "<style scoped>\n",
       "    .dataframe tbody tr th:only-of-type {\n",
       "        vertical-align: middle;\n",
       "    }\n",
       "\n",
       "    .dataframe tbody tr th {\n",
       "        vertical-align: top;\n",
       "    }\n",
       "\n",
       "    .dataframe thead th {\n",
       "        text-align: right;\n",
       "    }\n",
       "</style>\n",
       "<table border=\"1\" class=\"dataframe\">\n",
       "  <thead>\n",
       "    <tr style=\"text-align: right;\">\n",
       "      <th></th>\n",
       "      <th>data</th>\n",
       "      <th>cash</th>\n",
       "      <th>period</th>\n",
       "    </tr>\n",
       "  </thead>\n",
       "  <tbody>\n",
       "    <tr>\n",
       "      <th>0</th>\n",
       "      <td>2018-01-09 23:59:59</td>\n",
       "      <td>8819600</td>\n",
       "      <td>Выдача наличных денежных средств по УС 201672 ...</td>\n",
       "    </tr>\n",
       "    <tr>\n",
       "      <th>1</th>\n",
       "      <td>2018-01-10 23:59:59</td>\n",
       "      <td>4180500</td>\n",
       "      <td>Выдача наличных денежных средств по УС 201672 ...</td>\n",
       "    </tr>\n",
       "    <tr>\n",
       "      <th>2</th>\n",
       "      <td>2018-01-15 23:59:59</td>\n",
       "      <td>5396600</td>\n",
       "      <td>Выдача наличных денежных средств по УС 201672 ...</td>\n",
       "    </tr>\n",
       "    <tr>\n",
       "      <th>3</th>\n",
       "      <td>2018-01-17 23:59:59</td>\n",
       "      <td>6309000</td>\n",
       "      <td>Выдача наличных денежных средств по УС 201672 ...</td>\n",
       "    </tr>\n",
       "    <tr>\n",
       "      <th>4</th>\n",
       "      <td>2018-01-21 23:59:59</td>\n",
       "      <td>5353900</td>\n",
       "      <td>Выдача наличных денежных средств по УС 201672 ...</td>\n",
       "    </tr>\n",
       "  </tbody>\n",
       "</table>\n",
       "</div>"
      ],
      "text/plain": [
       "                  data     cash  \\\n",
       "0  2018-01-09 23:59:59  8819600   \n",
       "1  2018-01-10 23:59:59  4180500   \n",
       "2  2018-01-15 23:59:59  5396600   \n",
       "3  2018-01-17 23:59:59  6309000   \n",
       "4  2018-01-21 23:59:59  5353900   \n",
       "\n",
       "                                              period  \n",
       "0  Выдача наличных денежных средств по УС 201672 ...  \n",
       "1  Выдача наличных денежных средств по УС 201672 ...  \n",
       "2  Выдача наличных денежных средств по УС 201672 ...  \n",
       "3  Выдача наличных денежных средств по УС 201672 ...  \n",
       "4  Выдача наличных денежных средств по УС 201672 ...  "
      ]
     },
     "execution_count": 4,
     "metadata": {},
     "output_type": "execute_result"
    }
   ],
   "source": [
    "data = data.rename(columns = {0:\"data\", 1:\"cash\", 2:\"period\"})\n",
    "data.head()"
   ]
  },
  {
   "cell_type": "code",
   "execution_count": 5,
   "metadata": {},
   "outputs": [],
   "source": [
    "import re"
   ]
  },
  {
   "cell_type": "code",
   "execution_count": 6,
   "metadata": {},
   "outputs": [
    {
     "data": {
      "text/plain": [
       "data      object\n",
       "cash       int64\n",
       "period    object\n",
       "dtype: object"
      ]
     },
     "execution_count": 6,
     "metadata": {},
     "output_type": "execute_result"
    }
   ],
   "source": [
    "data.dtypes"
   ]
  },
  {
   "cell_type": "code",
   "execution_count": 7,
   "metadata": {},
   "outputs": [
    {
     "data": {
      "text/html": [
       "<div>\n",
       "<style scoped>\n",
       "    .dataframe tbody tr th:only-of-type {\n",
       "        vertical-align: middle;\n",
       "    }\n",
       "\n",
       "    .dataframe tbody tr th {\n",
       "        vertical-align: top;\n",
       "    }\n",
       "\n",
       "    .dataframe thead th {\n",
       "        text-align: right;\n",
       "    }\n",
       "</style>\n",
       "<table border=\"1\" class=\"dataframe\">\n",
       "  <thead>\n",
       "    <tr style=\"text-align: right;\">\n",
       "      <th></th>\n",
       "      <th>bank</th>\n",
       "      <th>data_1</th>\n",
       "      <th>data_2</th>\n",
       "    </tr>\n",
       "  </thead>\n",
       "  <tbody>\n",
       "    <tr>\n",
       "      <th>0</th>\n",
       "      <td>201672</td>\n",
       "      <td>29/12/2017</td>\n",
       "      <td>09/01/2018</td>\n",
       "    </tr>\n",
       "    <tr>\n",
       "      <th>1</th>\n",
       "      <td>201672</td>\n",
       "      <td>09/01/2018</td>\n",
       "      <td>10/01/2018</td>\n",
       "    </tr>\n",
       "    <tr>\n",
       "      <th>2</th>\n",
       "      <td>201672</td>\n",
       "      <td>10/01/2018</td>\n",
       "      <td>15/01/2018</td>\n",
       "    </tr>\n",
       "    <tr>\n",
       "      <th>3</th>\n",
       "      <td>201672</td>\n",
       "      <td>15/01/2018</td>\n",
       "      <td>17/01/2018</td>\n",
       "    </tr>\n",
       "    <tr>\n",
       "      <th>4</th>\n",
       "      <td>201672</td>\n",
       "      <td>17/01/2018</td>\n",
       "      <td>21/01/2018</td>\n",
       "    </tr>\n",
       "  </tbody>\n",
       "</table>\n",
       "</div>"
      ],
      "text/plain": [
       "     bank      data_1      data_2\n",
       "0  201672  29/12/2017  09/01/2018\n",
       "1  201672  09/01/2018  10/01/2018\n",
       "2  201672  10/01/2018  15/01/2018\n",
       "3  201672  15/01/2018  17/01/2018\n",
       "4  201672  17/01/2018  21/01/2018"
      ]
     },
     "execution_count": 7,
     "metadata": {},
     "output_type": "execute_result"
    }
   ],
   "source": [
    "pattern = r\"[\\d\\.]+\"\n",
    "pattern_2 = r\"[\\.]+\"\n",
    "bank = []\n",
    "for i in range(data.period.size):\n",
    "    link = re.findall(pattern, data.period[i])\n",
    "    link_bank = []\n",
    "    for i in link:\n",
    "        i = re.sub(pattern_2, \"/\", i)\n",
    "        link_bank.append(i)\n",
    "    bank.append(link_bank)\n",
    "\n",
    "bank = pd.DataFrame(bank, columns = [\"bank\", \"data_1\", \"data_2\"])\n",
    "bank.head()"
   ]
  },
  {
   "cell_type": "code",
   "execution_count": 8,
   "metadata": {},
   "outputs": [
    {
     "data": {
      "text/html": [
       "<div>\n",
       "<style scoped>\n",
       "    .dataframe tbody tr th:only-of-type {\n",
       "        vertical-align: middle;\n",
       "    }\n",
       "\n",
       "    .dataframe tbody tr th {\n",
       "        vertical-align: top;\n",
       "    }\n",
       "\n",
       "    .dataframe thead th {\n",
       "        text-align: right;\n",
       "    }\n",
       "</style>\n",
       "<table border=\"1\" class=\"dataframe\">\n",
       "  <thead>\n",
       "    <tr style=\"text-align: right;\">\n",
       "      <th></th>\n",
       "      <th>cash</th>\n",
       "    </tr>\n",
       "  </thead>\n",
       "  <tbody>\n",
       "    <tr>\n",
       "      <th>0</th>\n",
       "      <td>8819600</td>\n",
       "    </tr>\n",
       "    <tr>\n",
       "      <th>1</th>\n",
       "      <td>4180500</td>\n",
       "    </tr>\n",
       "    <tr>\n",
       "      <th>2</th>\n",
       "      <td>5396600</td>\n",
       "    </tr>\n",
       "    <tr>\n",
       "      <th>3</th>\n",
       "      <td>6309000</td>\n",
       "    </tr>\n",
       "    <tr>\n",
       "      <th>4</th>\n",
       "      <td>5353900</td>\n",
       "    </tr>\n",
       "  </tbody>\n",
       "</table>\n",
       "</div>"
      ],
      "text/plain": [
       "      cash\n",
       "0  8819600\n",
       "1  4180500\n",
       "2  5396600\n",
       "3  6309000\n",
       "4  5353900"
      ]
     },
     "execution_count": 8,
     "metadata": {},
     "output_type": "execute_result"
    }
   ],
   "source": [
    "data.drop(['period', 'data'], axis='columns', inplace=True)\n",
    "data.head()"
   ]
  },
  {
   "cell_type": "code",
   "execution_count": 9,
   "metadata": {},
   "outputs": [
    {
     "data": {
      "text/html": [
       "<div>\n",
       "<style scoped>\n",
       "    .dataframe tbody tr th:only-of-type {\n",
       "        vertical-align: middle;\n",
       "    }\n",
       "\n",
       "    .dataframe tbody tr th {\n",
       "        vertical-align: top;\n",
       "    }\n",
       "\n",
       "    .dataframe thead th {\n",
       "        text-align: right;\n",
       "    }\n",
       "</style>\n",
       "<table border=\"1\" class=\"dataframe\">\n",
       "  <thead>\n",
       "    <tr style=\"text-align: right;\">\n",
       "      <th></th>\n",
       "      <th>data_1</th>\n",
       "      <th>data_2</th>\n",
       "    </tr>\n",
       "  </thead>\n",
       "  <tbody>\n",
       "    <tr>\n",
       "      <th>0</th>\n",
       "      <td>29/12/2017</td>\n",
       "      <td>09/01/2018</td>\n",
       "    </tr>\n",
       "    <tr>\n",
       "      <th>1</th>\n",
       "      <td>09/01/2018</td>\n",
       "      <td>10/01/2018</td>\n",
       "    </tr>\n",
       "    <tr>\n",
       "      <th>2</th>\n",
       "      <td>10/01/2018</td>\n",
       "      <td>15/01/2018</td>\n",
       "    </tr>\n",
       "    <tr>\n",
       "      <th>3</th>\n",
       "      <td>15/01/2018</td>\n",
       "      <td>17/01/2018</td>\n",
       "    </tr>\n",
       "    <tr>\n",
       "      <th>4</th>\n",
       "      <td>17/01/2018</td>\n",
       "      <td>21/01/2018</td>\n",
       "    </tr>\n",
       "  </tbody>\n",
       "</table>\n",
       "</div>"
      ],
      "text/plain": [
       "       data_1      data_2\n",
       "0  29/12/2017  09/01/2018\n",
       "1  09/01/2018  10/01/2018\n",
       "2  10/01/2018  15/01/2018\n",
       "3  15/01/2018  17/01/2018\n",
       "4  17/01/2018  21/01/2018"
      ]
     },
     "execution_count": 9,
     "metadata": {},
     "output_type": "execute_result"
    }
   ],
   "source": [
    "bank.drop(['bank'], axis='columns', inplace=True)\n",
    "bank.head()"
   ]
  },
  {
   "cell_type": "code",
   "execution_count": null,
   "metadata": {},
   "outputs": [],
   "source": []
  },
  {
   "cell_type": "code",
   "execution_count": 10,
   "metadata": {},
   "outputs": [
    {
     "data": {
      "text/plain": [
       "(163, 1)"
      ]
     },
     "execution_count": 10,
     "metadata": {},
     "output_type": "execute_result"
    }
   ],
   "source": [
    "data.shape"
   ]
  },
  {
   "cell_type": "code",
   "execution_count": 11,
   "metadata": {},
   "outputs": [
    {
     "data": {
      "text/plain": [
       "(163, 2)"
      ]
     },
     "execution_count": 11,
     "metadata": {},
     "output_type": "execute_result"
    }
   ],
   "source": [
    "bank.shape"
   ]
  },
  {
   "cell_type": "code",
   "execution_count": 12,
   "metadata": {},
   "outputs": [],
   "source": [
    "df = pd.concat((bank, data),axis=1)"
   ]
  },
  {
   "cell_type": "code",
   "execution_count": 13,
   "metadata": {},
   "outputs": [
    {
     "data": {
      "text/html": [
       "<div>\n",
       "<style scoped>\n",
       "    .dataframe tbody tr th:only-of-type {\n",
       "        vertical-align: middle;\n",
       "    }\n",
       "\n",
       "    .dataframe tbody tr th {\n",
       "        vertical-align: top;\n",
       "    }\n",
       "\n",
       "    .dataframe thead th {\n",
       "        text-align: right;\n",
       "    }\n",
       "</style>\n",
       "<table border=\"1\" class=\"dataframe\">\n",
       "  <thead>\n",
       "    <tr style=\"text-align: right;\">\n",
       "      <th></th>\n",
       "      <th>data_1</th>\n",
       "      <th>data_2</th>\n",
       "      <th>cash</th>\n",
       "    </tr>\n",
       "  </thead>\n",
       "  <tbody>\n",
       "    <tr>\n",
       "      <th>0</th>\n",
       "      <td>29/12/2017</td>\n",
       "      <td>09/01/2018</td>\n",
       "      <td>8819600</td>\n",
       "    </tr>\n",
       "    <tr>\n",
       "      <th>1</th>\n",
       "      <td>09/01/2018</td>\n",
       "      <td>10/01/2018</td>\n",
       "      <td>4180500</td>\n",
       "    </tr>\n",
       "    <tr>\n",
       "      <th>2</th>\n",
       "      <td>10/01/2018</td>\n",
       "      <td>15/01/2018</td>\n",
       "      <td>5396600</td>\n",
       "    </tr>\n",
       "    <tr>\n",
       "      <th>3</th>\n",
       "      <td>15/01/2018</td>\n",
       "      <td>17/01/2018</td>\n",
       "      <td>6309000</td>\n",
       "    </tr>\n",
       "    <tr>\n",
       "      <th>4</th>\n",
       "      <td>17/01/2018</td>\n",
       "      <td>21/01/2018</td>\n",
       "      <td>5353900</td>\n",
       "    </tr>\n",
       "  </tbody>\n",
       "</table>\n",
       "</div>"
      ],
      "text/plain": [
       "       data_1      data_2     cash\n",
       "0  29/12/2017  09/01/2018  8819600\n",
       "1  09/01/2018  10/01/2018  4180500\n",
       "2  10/01/2018  15/01/2018  5396600\n",
       "3  15/01/2018  17/01/2018  6309000\n",
       "4  17/01/2018  21/01/2018  5353900"
      ]
     },
     "execution_count": 13,
     "metadata": {},
     "output_type": "execute_result"
    }
   ],
   "source": [
    "df.head()"
   ]
  },
  {
   "cell_type": "code",
   "execution_count": null,
   "metadata": {},
   "outputs": [],
   "source": []
  },
  {
   "cell_type": "code",
   "execution_count": 14,
   "metadata": {},
   "outputs": [
    {
     "data": {
      "text/plain": [
       "data_1    object\n",
       "data_2    object\n",
       "cash       int64\n",
       "dtype: object"
      ]
     },
     "execution_count": 14,
     "metadata": {},
     "output_type": "execute_result"
    }
   ],
   "source": [
    "df.dtypes"
   ]
  },
  {
   "cell_type": "code",
   "execution_count": 15,
   "metadata": {},
   "outputs": [
    {
     "data": {
      "text/plain": [
       "data_1    datetime64[ns]\n",
       "data_2    datetime64[ns]\n",
       "cash               int64\n",
       "dtype: object"
      ]
     },
     "execution_count": 15,
     "metadata": {},
     "output_type": "execute_result"
    }
   ],
   "source": [
    "df['data_1'] = pd.to_datetime(df['data_1'], format=\"%d/%m/%Y\")\n",
    "df['data_2'] = pd.to_datetime(df['data_2'], format=\"%d/%m/%Y\")\n",
    "df.dtypes"
   ]
  },
  {
   "cell_type": "code",
   "execution_count": 16,
   "metadata": {},
   "outputs": [
    {
     "data": {
      "text/html": [
       "<div>\n",
       "<style scoped>\n",
       "    .dataframe tbody tr th:only-of-type {\n",
       "        vertical-align: middle;\n",
       "    }\n",
       "\n",
       "    .dataframe tbody tr th {\n",
       "        vertical-align: top;\n",
       "    }\n",
       "\n",
       "    .dataframe thead th {\n",
       "        text-align: right;\n",
       "    }\n",
       "</style>\n",
       "<table border=\"1\" class=\"dataframe\">\n",
       "  <thead>\n",
       "    <tr style=\"text-align: right;\">\n",
       "      <th></th>\n",
       "      <th>data_1</th>\n",
       "      <th>data_2</th>\n",
       "      <th>cash</th>\n",
       "    </tr>\n",
       "  </thead>\n",
       "  <tbody>\n",
       "    <tr>\n",
       "      <th>0</th>\n",
       "      <td>2017-12-29</td>\n",
       "      <td>2018-01-09</td>\n",
       "      <td>8819600</td>\n",
       "    </tr>\n",
       "    <tr>\n",
       "      <th>1</th>\n",
       "      <td>2018-01-09</td>\n",
       "      <td>2018-01-10</td>\n",
       "      <td>4180500</td>\n",
       "    </tr>\n",
       "    <tr>\n",
       "      <th>2</th>\n",
       "      <td>2018-01-10</td>\n",
       "      <td>2018-01-15</td>\n",
       "      <td>5396600</td>\n",
       "    </tr>\n",
       "    <tr>\n",
       "      <th>3</th>\n",
       "      <td>2018-01-15</td>\n",
       "      <td>2018-01-17</td>\n",
       "      <td>6309000</td>\n",
       "    </tr>\n",
       "    <tr>\n",
       "      <th>4</th>\n",
       "      <td>2018-01-17</td>\n",
       "      <td>2018-01-21</td>\n",
       "      <td>5353900</td>\n",
       "    </tr>\n",
       "  </tbody>\n",
       "</table>\n",
       "</div>"
      ],
      "text/plain": [
       "      data_1     data_2     cash\n",
       "0 2017-12-29 2018-01-09  8819600\n",
       "1 2018-01-09 2018-01-10  4180500\n",
       "2 2018-01-10 2018-01-15  5396600\n",
       "3 2018-01-15 2018-01-17  6309000\n",
       "4 2018-01-17 2018-01-21  5353900"
      ]
     },
     "execution_count": 16,
     "metadata": {},
     "output_type": "execute_result"
    }
   ],
   "source": [
    "df.head()"
   ]
  },
  {
   "cell_type": "code",
   "execution_count": 17,
   "metadata": {},
   "outputs": [
    {
     "data": {
      "text/plain": [
       "Timedelta('11 days 00:00:00')"
      ]
     },
     "execution_count": 17,
     "metadata": {},
     "output_type": "execute_result"
    }
   ],
   "source": [
    "df.data_2[0]-df.data_1[0]"
   ]
  },
  {
   "cell_type": "code",
   "execution_count": 18,
   "metadata": {},
   "outputs": [],
   "source": [
    "df['colday'] = df.data_2 - df.data_1 "
   ]
  },
  {
   "cell_type": "code",
   "execution_count": 19,
   "metadata": {},
   "outputs": [
    {
     "data": {
      "text/html": [
       "<div>\n",
       "<style scoped>\n",
       "    .dataframe tbody tr th:only-of-type {\n",
       "        vertical-align: middle;\n",
       "    }\n",
       "\n",
       "    .dataframe tbody tr th {\n",
       "        vertical-align: top;\n",
       "    }\n",
       "\n",
       "    .dataframe thead th {\n",
       "        text-align: right;\n",
       "    }\n",
       "</style>\n",
       "<table border=\"1\" class=\"dataframe\">\n",
       "  <thead>\n",
       "    <tr style=\"text-align: right;\">\n",
       "      <th></th>\n",
       "      <th>data_1</th>\n",
       "      <th>data_2</th>\n",
       "      <th>cash</th>\n",
       "      <th>colday</th>\n",
       "    </tr>\n",
       "  </thead>\n",
       "  <tbody>\n",
       "    <tr>\n",
       "      <th>0</th>\n",
       "      <td>2017-12-29</td>\n",
       "      <td>2018-01-09</td>\n",
       "      <td>8819600</td>\n",
       "      <td>11 days</td>\n",
       "    </tr>\n",
       "    <tr>\n",
       "      <th>1</th>\n",
       "      <td>2018-01-09</td>\n",
       "      <td>2018-01-10</td>\n",
       "      <td>4180500</td>\n",
       "      <td>1 days</td>\n",
       "    </tr>\n",
       "    <tr>\n",
       "      <th>2</th>\n",
       "      <td>2018-01-10</td>\n",
       "      <td>2018-01-15</td>\n",
       "      <td>5396600</td>\n",
       "      <td>5 days</td>\n",
       "    </tr>\n",
       "    <tr>\n",
       "      <th>3</th>\n",
       "      <td>2018-01-15</td>\n",
       "      <td>2018-01-17</td>\n",
       "      <td>6309000</td>\n",
       "      <td>2 days</td>\n",
       "    </tr>\n",
       "    <tr>\n",
       "      <th>4</th>\n",
       "      <td>2018-01-17</td>\n",
       "      <td>2018-01-21</td>\n",
       "      <td>5353900</td>\n",
       "      <td>4 days</td>\n",
       "    </tr>\n",
       "  </tbody>\n",
       "</table>\n",
       "</div>"
      ],
      "text/plain": [
       "      data_1     data_2     cash  colday\n",
       "0 2017-12-29 2018-01-09  8819600 11 days\n",
       "1 2018-01-09 2018-01-10  4180500  1 days\n",
       "2 2018-01-10 2018-01-15  5396600  5 days\n",
       "3 2018-01-15 2018-01-17  6309000  2 days\n",
       "4 2018-01-17 2018-01-21  5353900  4 days"
      ]
     },
     "execution_count": 19,
     "metadata": {},
     "output_type": "execute_result"
    }
   ],
   "source": [
    "df.head()"
   ]
  },
  {
   "cell_type": "code",
   "execution_count": 20,
   "metadata": {},
   "outputs": [
    {
     "data": {
      "text/html": [
       "<div>\n",
       "<style scoped>\n",
       "    .dataframe tbody tr th:only-of-type {\n",
       "        vertical-align: middle;\n",
       "    }\n",
       "\n",
       "    .dataframe tbody tr th {\n",
       "        vertical-align: top;\n",
       "    }\n",
       "\n",
       "    .dataframe thead th {\n",
       "        text-align: right;\n",
       "    }\n",
       "</style>\n",
       "<table border=\"1\" class=\"dataframe\">\n",
       "  <thead>\n",
       "    <tr style=\"text-align: right;\">\n",
       "      <th></th>\n",
       "      <th>data_1</th>\n",
       "      <th>data_2</th>\n",
       "      <th>cash</th>\n",
       "      <th>colday</th>\n",
       "    </tr>\n",
       "  </thead>\n",
       "  <tbody>\n",
       "    <tr>\n",
       "      <th>158</th>\n",
       "      <td>2018-12-24</td>\n",
       "      <td>2018-12-25</td>\n",
       "      <td>1771500</td>\n",
       "      <td>1 days</td>\n",
       "    </tr>\n",
       "    <tr>\n",
       "      <th>159</th>\n",
       "      <td>2018-12-25</td>\n",
       "      <td>2018-12-26</td>\n",
       "      <td>3544500</td>\n",
       "      <td>1 days</td>\n",
       "    </tr>\n",
       "    <tr>\n",
       "      <th>160</th>\n",
       "      <td>2018-12-26</td>\n",
       "      <td>2018-12-27</td>\n",
       "      <td>750700</td>\n",
       "      <td>1 days</td>\n",
       "    </tr>\n",
       "    <tr>\n",
       "      <th>161</th>\n",
       "      <td>2018-12-27</td>\n",
       "      <td>2018-12-28</td>\n",
       "      <td>3989500</td>\n",
       "      <td>1 days</td>\n",
       "    </tr>\n",
       "    <tr>\n",
       "      <th>162</th>\n",
       "      <td>2018-12-28</td>\n",
       "      <td>2018-12-29</td>\n",
       "      <td>1505100</td>\n",
       "      <td>1 days</td>\n",
       "    </tr>\n",
       "  </tbody>\n",
       "</table>\n",
       "</div>"
      ],
      "text/plain": [
       "        data_1     data_2     cash colday\n",
       "158 2018-12-24 2018-12-25  1771500 1 days\n",
       "159 2018-12-25 2018-12-26  3544500 1 days\n",
       "160 2018-12-26 2018-12-27   750700 1 days\n",
       "161 2018-12-27 2018-12-28  3989500 1 days\n",
       "162 2018-12-28 2018-12-29  1505100 1 days"
      ]
     },
     "execution_count": 20,
     "metadata": {},
     "output_type": "execute_result"
    }
   ],
   "source": [
    "df.tail()"
   ]
  },
  {
   "cell_type": "code",
   "execution_count": 21,
   "metadata": {},
   "outputs": [],
   "source": [
    "import datetime"
   ]
  },
  {
   "cell_type": "code",
   "execution_count": 22,
   "metadata": {},
   "outputs": [],
   "source": [
    "\n",
    "df_days = []\n",
    "holiday_date = {1:[1,2,3,4,5,6,7,8], 2: [23], 3: [8], 4:[], 5: [1,9], 6: [12],7:[], 8:[], 9:[], 10:[], 11:[4], 12:[]}\n",
    "\n",
    "for i in range(df.data_1.size):\n",
    "    start_date = df.data_1[i]\n",
    "    end_date = df.data_2[i]\n",
    "    \n",
    "    weekend = 0\n",
    "    holiday = 0\n",
    "    winter = False\n",
    "    spring = False\n",
    "    summer = False\n",
    "    fall = False\n",
    "    end_or_begin_month = False\n",
    "    months = set()\n",
    "\n",
    "    day_count = (end_date - start_date).days\n",
    "\n",
    "    for single_date in [d for d in (start_date + datetime.timedelta(days=n) for n in range(day_count)) if d <= end_date]: \n",
    "        if single_date.strftime(\"%A\") == 'Saturday' or single_date.strftime(\"%A\") == 'Sunday':\n",
    "            weekend += 1\n",
    "        month = holiday_date[single_date.month]\n",
    "        if len(month) != 0:\n",
    "            for day in month:\n",
    "                if day == single_date.day:\n",
    "                    holiday += 1\n",
    "        if single_date.day < 10 or single_date.day > 25:\n",
    "            end_or_begin_month = True\n",
    "        \n",
    "        months.add(single_date.strftime(\"%m\"))  \n",
    "        \n",
    "    for month in months:\n",
    "        if month == \"01\" or month == \"02\" or month == \"12\":\n",
    "            winter = True\n",
    "        elif month == \"03\" or month == \"04\" or month == \"05\":\n",
    "            spring = True\n",
    "        elif month == \"06\" or month == \"07\" or month == \"08\":\n",
    "            summer = True\n",
    "        elif month == \"09\" or month == \"10\" or month == \"11\":\n",
    "            fall = True\n",
    "    \n",
    "    \n",
    "    df_day = [day_count, weekend, holiday, winter, spring, summer, fall, end_or_begin_month]\n",
    "    df_days.append(df_day)\n",
    "\n",
    "days = pd.DataFrame(df_days, columns = [\"day_count\", \"weekend\", \"holiday\", \"winter\", \"spring\", \"summer\", \"fall\", \"end_or_begin_month\"])   \n"
   ]
  },
  {
   "cell_type": "code",
   "execution_count": 23,
   "metadata": {},
   "outputs": [
    {
     "data": {
      "text/plain": [
       "(163, 8)"
      ]
     },
     "execution_count": 23,
     "metadata": {},
     "output_type": "execute_result"
    }
   ],
   "source": [
    "days.shape"
   ]
  },
  {
   "cell_type": "code",
   "execution_count": 24,
   "metadata": {},
   "outputs": [],
   "source": [
    "df = pd.concat((df, days),axis=1)"
   ]
  },
  {
   "cell_type": "code",
   "execution_count": 25,
   "metadata": {},
   "outputs": [
    {
     "data": {
      "text/html": [
       "<div>\n",
       "<style scoped>\n",
       "    .dataframe tbody tr th:only-of-type {\n",
       "        vertical-align: middle;\n",
       "    }\n",
       "\n",
       "    .dataframe tbody tr th {\n",
       "        vertical-align: top;\n",
       "    }\n",
       "\n",
       "    .dataframe thead th {\n",
       "        text-align: right;\n",
       "    }\n",
       "</style>\n",
       "<table border=\"1\" class=\"dataframe\">\n",
       "  <thead>\n",
       "    <tr style=\"text-align: right;\">\n",
       "      <th></th>\n",
       "      <th>data_1</th>\n",
       "      <th>data_2</th>\n",
       "      <th>cash</th>\n",
       "      <th>colday</th>\n",
       "      <th>day_count</th>\n",
       "      <th>weekend</th>\n",
       "      <th>holiday</th>\n",
       "      <th>winter</th>\n",
       "      <th>spring</th>\n",
       "      <th>summer</th>\n",
       "      <th>fall</th>\n",
       "      <th>end_or_begin_month</th>\n",
       "    </tr>\n",
       "  </thead>\n",
       "  <tbody>\n",
       "    <tr>\n",
       "      <th>0</th>\n",
       "      <td>2017-12-29</td>\n",
       "      <td>2018-01-09</td>\n",
       "      <td>8819600</td>\n",
       "      <td>11 days</td>\n",
       "      <td>11</td>\n",
       "      <td>4</td>\n",
       "      <td>8</td>\n",
       "      <td>True</td>\n",
       "      <td>False</td>\n",
       "      <td>False</td>\n",
       "      <td>False</td>\n",
       "      <td>True</td>\n",
       "    </tr>\n",
       "    <tr>\n",
       "      <th>1</th>\n",
       "      <td>2018-01-09</td>\n",
       "      <td>2018-01-10</td>\n",
       "      <td>4180500</td>\n",
       "      <td>1 days</td>\n",
       "      <td>1</td>\n",
       "      <td>0</td>\n",
       "      <td>0</td>\n",
       "      <td>True</td>\n",
       "      <td>False</td>\n",
       "      <td>False</td>\n",
       "      <td>False</td>\n",
       "      <td>True</td>\n",
       "    </tr>\n",
       "    <tr>\n",
       "      <th>2</th>\n",
       "      <td>2018-01-10</td>\n",
       "      <td>2018-01-15</td>\n",
       "      <td>5396600</td>\n",
       "      <td>5 days</td>\n",
       "      <td>5</td>\n",
       "      <td>2</td>\n",
       "      <td>0</td>\n",
       "      <td>True</td>\n",
       "      <td>False</td>\n",
       "      <td>False</td>\n",
       "      <td>False</td>\n",
       "      <td>False</td>\n",
       "    </tr>\n",
       "    <tr>\n",
       "      <th>3</th>\n",
       "      <td>2018-01-15</td>\n",
       "      <td>2018-01-17</td>\n",
       "      <td>6309000</td>\n",
       "      <td>2 days</td>\n",
       "      <td>2</td>\n",
       "      <td>0</td>\n",
       "      <td>0</td>\n",
       "      <td>True</td>\n",
       "      <td>False</td>\n",
       "      <td>False</td>\n",
       "      <td>False</td>\n",
       "      <td>False</td>\n",
       "    </tr>\n",
       "    <tr>\n",
       "      <th>4</th>\n",
       "      <td>2018-01-17</td>\n",
       "      <td>2018-01-21</td>\n",
       "      <td>5353900</td>\n",
       "      <td>4 days</td>\n",
       "      <td>4</td>\n",
       "      <td>1</td>\n",
       "      <td>0</td>\n",
       "      <td>True</td>\n",
       "      <td>False</td>\n",
       "      <td>False</td>\n",
       "      <td>False</td>\n",
       "      <td>False</td>\n",
       "    </tr>\n",
       "  </tbody>\n",
       "</table>\n",
       "</div>"
      ],
      "text/plain": [
       "      data_1     data_2     cash  colday  day_count  weekend  holiday  winter  \\\n",
       "0 2017-12-29 2018-01-09  8819600 11 days         11        4        8    True   \n",
       "1 2018-01-09 2018-01-10  4180500  1 days          1        0        0    True   \n",
       "2 2018-01-10 2018-01-15  5396600  5 days          5        2        0    True   \n",
       "3 2018-01-15 2018-01-17  6309000  2 days          2        0        0    True   \n",
       "4 2018-01-17 2018-01-21  5353900  4 days          4        1        0    True   \n",
       "\n",
       "   spring  summer   fall  end_or_begin_month  \n",
       "0   False   False  False                True  \n",
       "1   False   False  False                True  \n",
       "2   False   False  False               False  \n",
       "3   False   False  False               False  \n",
       "4   False   False  False               False  "
      ]
     },
     "execution_count": 25,
     "metadata": {},
     "output_type": "execute_result"
    }
   ],
   "source": [
    "df.head()"
   ]
  },
  {
   "cell_type": "code",
   "execution_count": 26,
   "metadata": {},
   "outputs": [
    {
     "data": {
      "text/html": [
       "<div>\n",
       "<style scoped>\n",
       "    .dataframe tbody tr th:only-of-type {\n",
       "        vertical-align: middle;\n",
       "    }\n",
       "\n",
       "    .dataframe tbody tr th {\n",
       "        vertical-align: top;\n",
       "    }\n",
       "\n",
       "    .dataframe thead th {\n",
       "        text-align: right;\n",
       "    }\n",
       "</style>\n",
       "<table border=\"1\" class=\"dataframe\">\n",
       "  <thead>\n",
       "    <tr style=\"text-align: right;\">\n",
       "      <th></th>\n",
       "      <th>day_count</th>\n",
       "      <th>weekend</th>\n",
       "      <th>holiday</th>\n",
       "      <th>winter</th>\n",
       "      <th>spring</th>\n",
       "      <th>summer</th>\n",
       "      <th>fall</th>\n",
       "      <th>end_or_begin_month</th>\n",
       "    </tr>\n",
       "  </thead>\n",
       "  <tbody>\n",
       "    <tr>\n",
       "      <th>0</th>\n",
       "      <td>11</td>\n",
       "      <td>4</td>\n",
       "      <td>8</td>\n",
       "      <td>True</td>\n",
       "      <td>False</td>\n",
       "      <td>False</td>\n",
       "      <td>False</td>\n",
       "      <td>True</td>\n",
       "    </tr>\n",
       "    <tr>\n",
       "      <th>1</th>\n",
       "      <td>1</td>\n",
       "      <td>0</td>\n",
       "      <td>0</td>\n",
       "      <td>True</td>\n",
       "      <td>False</td>\n",
       "      <td>False</td>\n",
       "      <td>False</td>\n",
       "      <td>True</td>\n",
       "    </tr>\n",
       "    <tr>\n",
       "      <th>2</th>\n",
       "      <td>5</td>\n",
       "      <td>2</td>\n",
       "      <td>0</td>\n",
       "      <td>True</td>\n",
       "      <td>False</td>\n",
       "      <td>False</td>\n",
       "      <td>False</td>\n",
       "      <td>False</td>\n",
       "    </tr>\n",
       "    <tr>\n",
       "      <th>3</th>\n",
       "      <td>2</td>\n",
       "      <td>0</td>\n",
       "      <td>0</td>\n",
       "      <td>True</td>\n",
       "      <td>False</td>\n",
       "      <td>False</td>\n",
       "      <td>False</td>\n",
       "      <td>False</td>\n",
       "    </tr>\n",
       "    <tr>\n",
       "      <th>4</th>\n",
       "      <td>4</td>\n",
       "      <td>1</td>\n",
       "      <td>0</td>\n",
       "      <td>True</td>\n",
       "      <td>False</td>\n",
       "      <td>False</td>\n",
       "      <td>False</td>\n",
       "      <td>False</td>\n",
       "    </tr>\n",
       "  </tbody>\n",
       "</table>\n",
       "</div>"
      ],
      "text/plain": [
       "   day_count  weekend  holiday  winter  spring  summer   fall  \\\n",
       "0         11        4        8    True   False   False  False   \n",
       "1          1        0        0    True   False   False  False   \n",
       "2          5        2        0    True   False   False  False   \n",
       "3          2        0        0    True   False   False  False   \n",
       "4          4        1        0    True   False   False  False   \n",
       "\n",
       "   end_or_begin_month  \n",
       "0                True  \n",
       "1                True  \n",
       "2               False  \n",
       "3               False  \n",
       "4               False  "
      ]
     },
     "execution_count": 26,
     "metadata": {},
     "output_type": "execute_result"
    }
   ],
   "source": [
    "X = df[[\"day_count\", \"weekend\", \"holiday\", \"winter\", \"spring\", \"summer\", \"fall\", \"end_or_begin_month\"]]\n",
    "X.head()"
   ]
  },
  {
   "cell_type": "code",
   "execution_count": 27,
   "metadata": {},
   "outputs": [
    {
     "data": {
      "text/plain": [
       "0      8819600\n",
       "1      4180500\n",
       "2      5396600\n",
       "3      6309000\n",
       "4      5353900\n",
       "        ...   \n",
       "158    1771500\n",
       "159    3544500\n",
       "160     750700\n",
       "161    3989500\n",
       "162    1505100\n",
       "Name: cash, Length: 163, dtype: int64"
      ]
     },
     "execution_count": 27,
     "metadata": {},
     "output_type": "execute_result"
    }
   ],
   "source": [
    "df_y = df[\"cash\"]\n",
    "df_y"
   ]
  },
  {
   "cell_type": "code",
   "execution_count": 28,
   "metadata": {},
   "outputs": [
    {
     "name": "stdout",
     "output_type": "stream",
     "text": [
      "672200 11499900\n"
     ]
    }
   ],
   "source": [
    "min = df_y.min()\n",
    "max = df_y.max()\n",
    "print(min, max)\n",
    "y = []\n",
    "\n",
    "for cash in df_y:\n",
    "    y.append((cash - min)/(max - min))\n",
    "y = pd.Series(y)"
   ]
  },
  {
   "cell_type": "code",
   "execution_count": 29,
   "metadata": {},
   "outputs": [
    {
     "data": {
      "text/plain": [
       "0    0.752459\n",
       "1    0.324012\n",
       "2    0.436325\n",
       "3    0.520591\n",
       "4    0.432382\n",
       "dtype: float64"
      ]
     },
     "execution_count": 29,
     "metadata": {},
     "output_type": "execute_result"
    }
   ],
   "source": [
    "y.head()"
   ]
  },
  {
   "cell_type": "code",
   "execution_count": 30,
   "metadata": {},
   "outputs": [
    {
     "data": {
      "text/plain": [
       "day_count             int64\n",
       "weekend               int64\n",
       "holiday               int64\n",
       "winter                 bool\n",
       "spring                 bool\n",
       "summer                 bool\n",
       "fall                   bool\n",
       "end_or_begin_month     bool\n",
       "dtype: object"
      ]
     },
     "execution_count": 30,
     "metadata": {},
     "output_type": "execute_result"
    }
   ],
   "source": [
    "X.dtypes"
   ]
  },
  {
   "cell_type": "code",
   "execution_count": 31,
   "metadata": {},
   "outputs": [],
   "source": [
    "X = X.astype('int64')"
   ]
  },
  {
   "cell_type": "code",
   "execution_count": 32,
   "metadata": {},
   "outputs": [],
   "source": [
    "#min = X[\"day_count\"].min()\n",
    "#max = X[\"day_count\"].max()\n",
    "#print(min, max)\n",
    "\n",
    "#X[\"day_count\"] = (X[\"day_count\"] - min)/(max - min)\n",
    "#X.head()"
   ]
  },
  {
   "cell_type": "code",
   "execution_count": 33,
   "metadata": {},
   "outputs": [],
   "source": [
    "#min = X[\"weekend\"].min()\n",
    "#max = X[\"weekend\"].max()\n",
    "#print(min, max)\n",
    "\n",
    "#X[\"weekend\"] = (X[\"weekend\"] - min)/(max - min)\n",
    "#X.head()"
   ]
  },
  {
   "cell_type": "code",
   "execution_count": 34,
   "metadata": {},
   "outputs": [],
   "source": [
    "#min = X[\"holiday\"].min()\n",
    "#max = X[\"holiday\"].max()\n",
    "#print(min, max)\n",
    "\n",
    "#X[\"holiday\"] = (X[\"holiday\"] - min)/(max - min)\n",
    "#X.head()"
   ]
  },
  {
   "cell_type": "code",
   "execution_count": 35,
   "metadata": {},
   "outputs": [],
   "source": [
    "from sklearn import preprocessing\n",
    "from sklearn.decomposition import PCA\n",
    "import pylab as plt"
   ]
  },
  {
   "cell_type": "code",
   "execution_count": 36,
   "metadata": {},
   "outputs": [
    {
     "data": {
      "text/plain": [
       "array([[ 7.11667317,  4.29992426, 12.18174304, ..., -0.54189556,\n",
       "        -0.5986095 ,  1.0061539 ],\n",
       "       [-0.98967013, -0.81604402, -0.13220496, ..., -0.54189556,\n",
       "        -0.5986095 ,  1.0061539 ],\n",
       "       [ 2.25286719,  1.74194012, -0.13220496, ..., -0.54189556,\n",
       "        -0.5986095 , -0.99388373],\n",
       "       ...,\n",
       "       [-0.98967013, -0.81604402, -0.13220496, ..., -0.54189556,\n",
       "        -0.5986095 ,  1.0061539 ],\n",
       "       [-0.98967013, -0.81604402, -0.13220496, ..., -0.54189556,\n",
       "        -0.5986095 ,  1.0061539 ],\n",
       "       [-0.98967013, -0.81604402, -0.13220496, ..., -0.54189556,\n",
       "        -0.5986095 ,  1.0061539 ]])"
      ]
     },
     "execution_count": 36,
     "metadata": {},
     "output_type": "execute_result"
    }
   ],
   "source": [
    "X = preprocessing.StandardScaler().fit(X).transform(X)\n",
    "X"
   ]
  },
  {
   "cell_type": "code",
   "execution_count": 37,
   "metadata": {},
   "outputs": [
    {
     "data": {
      "text/plain": [
       "[<matplotlib.lines.Line2D at 0x7fd73e5ad978>]"
      ]
     },
     "execution_count": 37,
     "metadata": {},
     "output_type": "execute_result"
    },
    {
     "data": {
      "image/png": "[encoded data removed]",
      "text/plain": [
       "<Figure size 432x288 with 1 Axes>"
      ]
     },
     "metadata": {
      "needs_background": "light"
     },
     "output_type": "display_data"
    }
   ],
   "source": [
    "model = PCA() # создание экземпляра класса анализа главных компонент\n",
    "results = model.fit(X) # применение PCA к свободным переменным для поиска возможности свертки их в меньшее количество переменных\n",
    "\n",
    "Z = results.transform(X) # результат преобразуется в массив для использования вновь созданных данных\n",
    "\n",
    "plt.plot(results.explained_variance_) # график объяснимой дисперсии переменных; в данном случае используется график каменной осыпи"
   ]
  },
  {
   "cell_type": "code",
   "execution_count": 38,
   "metadata": {},
   "outputs": [
    {
     "data": {
      "text/plain": [
       "(163, 8)"
      ]
     },
     "execution_count": 38,
     "metadata": {},
     "output_type": "execute_result"
    }
   ],
   "source": [
    "Z.shape"
   ]
  },
  {
   "cell_type": "code",
   "execution_count": 39,
   "metadata": {},
   "outputs": [
    {
     "data": {
      "text/plain": [
       "array([[ 1.25616883e+01,  4.85057174e+00,  3.07450079e+00, ...,\n",
       "         4.79603440e+00,  1.52621433e+00,  3.06333312e-02],\n",
       "       [-1.25456775e+00,  1.62072009e+00,  1.51440138e-01, ...,\n",
       "         5.55387160e-02,  7.28251835e-02,  1.06877122e-02],\n",
       "       [ 1.79118632e+00,  1.77426561e+00,  2.74397003e-01, ...,\n",
       "        -1.45789878e+00, -1.40350345e+00, -4.98235546e-02],\n",
       "       ...,\n",
       "       [-1.25456775e+00,  1.62072009e+00,  1.51440138e-01, ...,\n",
       "         5.55387160e-02,  7.28251835e-02,  1.06877122e-02],\n",
       "       [-1.25456775e+00,  1.62072009e+00,  1.51440138e-01, ...,\n",
       "         5.55387160e-02,  7.28251835e-02,  1.06877122e-02],\n",
       "       [-1.25456775e+00,  1.62072009e+00,  1.51440138e-01, ...,\n",
       "         5.55387160e-02,  7.28251835e-02,  1.06877122e-02]])"
      ]
     },
     "execution_count": 39,
     "metadata": {},
     "output_type": "execute_result"
    }
   ],
   "source": [
    "Z"
   ]
  },
  {
   "cell_type": "code",
   "execution_count": 40,
   "metadata": {},
   "outputs": [
    {
     "data": {
      "text/html": [
       "<div>\n",
       "<style scoped>\n",
       "    .dataframe tbody tr th:only-of-type {\n",
       "        vertical-align: middle;\n",
       "    }\n",
       "\n",
       "    .dataframe tbody tr th {\n",
       "        vertical-align: top;\n",
       "    }\n",
       "\n",
       "    .dataframe thead th {\n",
       "        text-align: right;\n",
       "    }\n",
       "</style>\n",
       "<table border=\"1\" class=\"dataframe\">\n",
       "  <thead>\n",
       "    <tr style=\"text-align: right;\">\n",
       "      <th></th>\n",
       "      <th>Дополнительная информация</th>\n",
       "    </tr>\n",
       "  </thead>\n",
       "  <tbody>\n",
       "    <tr>\n",
       "      <th>0</th>\n",
       "      <td>27.793196</td>\n",
       "    </tr>\n",
       "    <tr>\n",
       "      <th>1</th>\n",
       "      <td>17.902506</td>\n",
       "    </tr>\n",
       "    <tr>\n",
       "      <th>2</th>\n",
       "      <td>16.568766</td>\n",
       "    </tr>\n",
       "    <tr>\n",
       "      <th>3</th>\n",
       "      <td>15.535124</td>\n",
       "    </tr>\n",
       "    <tr>\n",
       "      <th>4</th>\n",
       "      <td>12.022573</td>\n",
       "    </tr>\n",
       "    <tr>\n",
       "      <th>5</th>\n",
       "      <td>7.266396</td>\n",
       "    </tr>\n",
       "    <tr>\n",
       "      <th>6</th>\n",
       "      <td>2.715815</td>\n",
       "    </tr>\n",
       "    <tr>\n",
       "      <th>7</th>\n",
       "      <td>0.195624</td>\n",
       "    </tr>\n",
       "  </tbody>\n",
       "</table>\n",
       "</div>"
      ],
      "text/plain": [
       "   Дополнительная информация\n",
       "0                  27.793196\n",
       "1                  17.902506\n",
       "2                  16.568766\n",
       "3                  15.535124\n",
       "4                  12.022573\n",
       "5                   7.266396\n",
       "6                   2.715815\n",
       "7                   0.195624"
      ]
     },
     "execution_count": 40,
     "metadata": {},
     "output_type": "execute_result"
    }
   ],
   "source": [
    "inf = results.explained_variance_ratio_\n",
    "table = pd.DataFrame({'Дополнительная информация': inf*100}) # в процентах\n",
    "table"
   ]
  },
  {
   "cell_type": "code",
   "execution_count": 41,
   "metadata": {},
   "outputs": [
    {
     "data": {
      "text/html": [
       "<div>\n",
       "<style scoped>\n",
       "    .dataframe tbody tr th:only-of-type {\n",
       "        vertical-align: middle;\n",
       "    }\n",
       "\n",
       "    .dataframe tbody tr th {\n",
       "        vertical-align: top;\n",
       "    }\n",
       "\n",
       "    .dataframe thead th {\n",
       "        text-align: right;\n",
       "    }\n",
       "</style>\n",
       "<table border=\"1\" class=\"dataframe\">\n",
       "  <thead>\n",
       "    <tr style=\"text-align: right;\">\n",
       "      <th></th>\n",
       "      <th>0</th>\n",
       "      <th>1</th>\n",
       "      <th>2</th>\n",
       "      <th>3</th>\n",
       "      <th>4</th>\n",
       "      <th>5</th>\n",
       "      <th>6</th>\n",
       "      <th>7</th>\n",
       "    </tr>\n",
       "  </thead>\n",
       "  <tbody>\n",
       "    <tr>\n",
       "      <th>0</th>\n",
       "      <td>12.561688</td>\n",
       "      <td>4.850572</td>\n",
       "      <td>3.074501</td>\n",
       "      <td>2.395219</td>\n",
       "      <td>0.137647</td>\n",
       "      <td>4.796034</td>\n",
       "      <td>1.526214</td>\n",
       "      <td>0.030633</td>\n",
       "    </tr>\n",
       "    <tr>\n",
       "      <th>1</th>\n",
       "      <td>-1.254568</td>\n",
       "      <td>1.620720</td>\n",
       "      <td>0.151440</td>\n",
       "      <td>-0.248301</td>\n",
       "      <td>-1.304872</td>\n",
       "      <td>0.055539</td>\n",
       "      <td>0.072825</td>\n",
       "      <td>0.010688</td>\n",
       "    </tr>\n",
       "    <tr>\n",
       "      <th>2</th>\n",
       "      <td>1.791186</td>\n",
       "      <td>1.774266</td>\n",
       "      <td>0.274397</td>\n",
       "      <td>0.519079</td>\n",
       "      <td>1.279620</td>\n",
       "      <td>-1.457899</td>\n",
       "      <td>-1.403503</td>\n",
       "      <td>-0.049824</td>\n",
       "    </tr>\n",
       "    <tr>\n",
       "      <th>3</th>\n",
       "      <td>-1.061013</td>\n",
       "      <td>1.744658</td>\n",
       "      <td>-0.000739</td>\n",
       "      <td>0.096456</td>\n",
       "      <td>0.712506</td>\n",
       "      <td>0.262228</td>\n",
       "      <td>-0.518702</td>\n",
       "      <td>0.012450</td>\n",
       "    </tr>\n",
       "    <tr>\n",
       "      <th>4</th>\n",
       "      <td>0.615922</td>\n",
       "      <td>1.755292</td>\n",
       "      <td>0.149181</td>\n",
       "      <td>0.333894</td>\n",
       "      <td>1.037133</td>\n",
       "      <td>-0.571621</td>\n",
       "      <td>-1.274112</td>\n",
       "      <td>-0.031443</td>\n",
       "    </tr>\n",
       "    <tr>\n",
       "      <th>...</th>\n",
       "      <td>...</td>\n",
       "      <td>...</td>\n",
       "      <td>...</td>\n",
       "      <td>...</td>\n",
       "      <td>...</td>\n",
       "      <td>...</td>\n",
       "      <td>...</td>\n",
       "      <td>...</td>\n",
       "    </tr>\n",
       "    <tr>\n",
       "      <th>158</th>\n",
       "      <td>-1.562683</td>\n",
       "      <td>1.752998</td>\n",
       "      <td>-0.025443</td>\n",
       "      <td>0.044203</td>\n",
       "      <td>0.630365</td>\n",
       "      <td>0.209799</td>\n",
       "      <td>0.107316</td>\n",
       "      <td>0.037963</td>\n",
       "    </tr>\n",
       "    <tr>\n",
       "      <th>159</th>\n",
       "      <td>-1.562683</td>\n",
       "      <td>1.752998</td>\n",
       "      <td>-0.025443</td>\n",
       "      <td>0.044203</td>\n",
       "      <td>0.630365</td>\n",
       "      <td>0.209799</td>\n",
       "      <td>0.107316</td>\n",
       "      <td>0.037963</td>\n",
       "    </tr>\n",
       "    <tr>\n",
       "      <th>160</th>\n",
       "      <td>-1.254568</td>\n",
       "      <td>1.620720</td>\n",
       "      <td>0.151440</td>\n",
       "      <td>-0.248301</td>\n",
       "      <td>-1.304872</td>\n",
       "      <td>0.055539</td>\n",
       "      <td>0.072825</td>\n",
       "      <td>0.010688</td>\n",
       "    </tr>\n",
       "    <tr>\n",
       "      <th>161</th>\n",
       "      <td>-1.254568</td>\n",
       "      <td>1.620720</td>\n",
       "      <td>0.151440</td>\n",
       "      <td>-0.248301</td>\n",
       "      <td>-1.304872</td>\n",
       "      <td>0.055539</td>\n",
       "      <td>0.072825</td>\n",
       "      <td>0.010688</td>\n",
       "    </tr>\n",
       "    <tr>\n",
       "      <th>162</th>\n",
       "      <td>-1.254568</td>\n",
       "      <td>1.620720</td>\n",
       "      <td>0.151440</td>\n",
       "      <td>-0.248301</td>\n",
       "      <td>-1.304872</td>\n",
       "      <td>0.055539</td>\n",
       "      <td>0.072825</td>\n",
       "      <td>0.010688</td>\n",
       "    </tr>\n",
       "  </tbody>\n",
       "</table>\n",
       "<p>163 rows × 8 columns</p>\n",
       "</div>"
      ],
      "text/plain": [
       "             0         1         2         3         4         5         6  \\\n",
       "0    12.561688  4.850572  3.074501  2.395219  0.137647  4.796034  1.526214   \n",
       "1    -1.254568  1.620720  0.151440 -0.248301 -1.304872  0.055539  0.072825   \n",
       "2     1.791186  1.774266  0.274397  0.519079  1.279620 -1.457899 -1.403503   \n",
       "3    -1.061013  1.744658 -0.000739  0.096456  0.712506  0.262228 -0.518702   \n",
       "4     0.615922  1.755292  0.149181  0.333894  1.037133 -0.571621 -1.274112   \n",
       "..         ...       ...       ...       ...       ...       ...       ...   \n",
       "158  -1.562683  1.752998 -0.025443  0.044203  0.630365  0.209799  0.107316   \n",
       "159  -1.562683  1.752998 -0.025443  0.044203  0.630365  0.209799  0.107316   \n",
       "160  -1.254568  1.620720  0.151440 -0.248301 -1.304872  0.055539  0.072825   \n",
       "161  -1.254568  1.620720  0.151440 -0.248301 -1.304872  0.055539  0.072825   \n",
       "162  -1.254568  1.620720  0.151440 -0.248301 -1.304872  0.055539  0.072825   \n",
       "\n",
       "            7  \n",
       "0    0.030633  \n",
       "1    0.010688  \n",
       "2   -0.049824  \n",
       "3    0.012450  \n",
       "4   -0.031443  \n",
       "..        ...  \n",
       "158  0.037963  \n",
       "159  0.037963  \n",
       "160  0.010688  \n",
       "161  0.010688  \n",
       "162  0.010688  \n",
       "\n",
       "[163 rows x 8 columns]"
      ]
     },
     "execution_count": 41,
     "metadata": {},
     "output_type": "execute_result"
    }
   ],
   "source": [
    "pd.DataFrame(Z, columns=list([\"0\", \"1\", \"2\", \"3\", \"4\", \"5\", \"6\", \"7\"]))"
   ]
  },
  {
   "cell_type": "code",
   "execution_count": null,
   "metadata": {},
   "outputs": [],
   "source": []
  },
  {
   "cell_type": "markdown",
   "metadata": {},
   "source": [
    "# Данные готовы"
   ]
  },
  {
   "cell_type": "code",
   "execution_count": 42,
   "metadata": {},
   "outputs": [],
   "source": [
    "from sklearn.model_selection import train_test_split"
   ]
  },
  {
   "cell_type": "code",
   "execution_count": 43,
   "metadata": {},
   "outputs": [],
   "source": [
    "X_train, X_test, y_train, y_test = train_test_split(Z, y, test_size=0.10, random_state=42)"
   ]
  },
  {
   "cell_type": "code",
   "execution_count": 47,
   "metadata": {},
   "outputs": [
    {
     "name": "stdout",
     "output_type": "stream",
     "text": [
      "3 0.532202463633783 0.1165345070541316\n"
     ]
    }
   ],
   "source": [
    "from sklearn import neural_network\n",
    "from sklearn.metrics import confusion_matrix\n",
    "#predicted_correct = [] # массив будет заполнен правильно спрогнозированными наблюдениями\n",
    "\n",
    "for i in range(1, 10):\n",
    "    mlp = neural_network.MLPRegressor(hidden_layer_sizes=(64*i, 32*i, 16*i, 8*i),random_state=0, activation='relu') # 8,16,32,16,32\n",
    "    fit = mlp.fit(X_train, y_train)\n",
    "    if fit.score(X_test, y_test) > 0:\n",
    "        print(i, fit.score(X_train, y_train), fit.score(X_test, y_test))"
   ]
  },
  {
   "cell_type": "code",
   "execution_count": 45,
   "metadata": {},
   "outputs": [
    {
     "name": "stdout",
     "output_type": "stream",
     "text": [
      "3 0.3045800174239085 0.37039026341367515\n"
     ]
    }
   ],
   "source": [
    "i = 3\n",
    "mlp = neural_network.MLPRegressor(hidden_layer_sizes=(i*10, 8*i, 6*i, 4*i),random_state=0, activation='relu')\n",
    "fit = mlp.fit(X_train, y_train)\n",
    "if fit.score(X_test, y_test) > 0:\n",
    "    print(i, fit.score(X_train, y_train), fit.score(X_test, y_test))"
   ]
  },
  {
   "cell_type": "code",
   "execution_count": 46,
   "metadata": {},
   "outputs": [
    {
     "name": "stdout",
     "output_type": "stream",
     "text": [
      "5 0.43421246922675827 0.21324289152401632\n"
     ]
    }
   ],
   "source": [
    "i = 5\n",
    "mlp = neural_network.MLPRegressor(hidden_layer_sizes=(i*10, 10*i, 10*i, 10*i, 10*i),random_state=0, activation='relu') # 8,16,32,16,32\n",
    "fit = mlp.fit(X_train, y_train)\n",
    "if fit.score(X_test, y_test) > 0:\n",
    "    print(i, fit.score(X_train, y_train), fit.score(X_test, y_test))"
   ]
  },
  {
   "cell_type": "code",
   "execution_count": 48,
   "metadata": {},
   "outputs": [
    {
     "data": {
      "text/plain": [
       "-0.7171749392320412"
      ]
     },
     "execution_count": 48,
     "metadata": {},
     "output_type": "execute_result"
    }
   ],
   "source": [
    "fit.score(X_train, y_train)"
   ]
  },
  {
   "cell_type": "code",
   "execution_count": 49,
   "metadata": {},
   "outputs": [
    {
     "data": {
      "text/plain": [
       "32"
      ]
     },
     "execution_count": 49,
     "metadata": {},
     "output_type": "execute_result"
    }
   ],
   "source": [
    "mlp.n_iter_"
   ]
  },
  {
   "cell_type": "code",
   "execution_count": 50,
   "metadata": {},
   "outputs": [
    {
     "data": {
      "text/plain": [
       "{'activation': 'relu',\n",
       " 'alpha': 0.0001,\n",
       " 'batch_size': 'auto',\n",
       " 'beta_1': 0.9,\n",
       " 'beta_2': 0.999,\n",
       " 'early_stopping': False,\n",
       " 'epsilon': 1e-08,\n",
       " 'hidden_layer_sizes': (30, 24, 18, 12),\n",
       " 'learning_rate': 'constant',\n",
       " 'learning_rate_init': 0.001,\n",
       " 'max_iter': 200,\n",
       " 'momentum': 0.9,\n",
       " 'n_iter_no_change': 10,\n",
       " 'nesterovs_momentum': True,\n",
       " 'power_t': 0.5,\n",
       " 'random_state': 0,\n",
       " 'shuffle': True,\n",
       " 'solver': 'adam',\n",
       " 'tol': 0.0001,\n",
       " 'validation_fraction': 0.1,\n",
       " 'verbose': False,\n",
       " 'warm_start': False}"
      ]
     },
     "execution_count": 50,
     "metadata": {},
     "output_type": "execute_result"
    }
   ],
   "source": [
    "mlp.get_params()"
   ]
  },
  {
   "cell_type": "code",
   "execution_count": 51,
   "metadata": {},
   "outputs": [
    {
     "data": {
      "text/plain": [
       "0.016769706502012552"
      ]
     },
     "execution_count": 51,
     "metadata": {},
     "output_type": "execute_result"
    }
   ],
   "source": [
    "mlp.loss_"
   ]
  },
  {
   "cell_type": "code",
   "execution_count": 52,
   "metadata": {},
   "outputs": [
    {
     "data": {
      "text/plain": [
       "'identity'"
      ]
     },
     "execution_count": 52,
     "metadata": {},
     "output_type": "execute_result"
    }
   ],
   "source": [
    "mlp.out_activation_"
   ]
  },
  {
   "cell_type": "code",
   "execution_count": 53,
   "metadata": {},
   "outputs": [
    {
     "data": {
      "text/plain": [
       "-0.28179630764077435"
      ]
     },
     "execution_count": 53,
     "metadata": {},
     "output_type": "execute_result"
    }
   ],
   "source": [
    "mlp.score(X_test, y_test)"
   ]
  },
  {
   "cell_type": "code",
   "execution_count": 54,
   "metadata": {},
   "outputs": [],
   "source": [
    "y_real = []\n",
    "for y in y_test:\n",
    "    y_real.append(y)\n"
   ]
  },
  {
   "cell_type": "code",
   "execution_count": 55,
   "metadata": {},
   "outputs": [],
   "source": [
    "y_pred = pd.DataFrame(mlp.predict(X_test), columns = [\"y_pred\"])\n",
    "y_real = pd.DataFrame(y_real, columns = [\"y_real\"])\n",
    "df_y_pred = pd.concat((y_pred, y_real),axis=1)"
   ]
  },
  {
   "cell_type": "code",
   "execution_count": 86,
   "metadata": {},
   "outputs": [],
   "source": [
    "df_y_pred[\"difference\"] = df_y_pred.y_real - df_y_pred.y_pred"
   ]
  },
  {
   "cell_type": "code",
   "execution_count": 87,
   "metadata": {},
   "outputs": [
    {
     "data": {
      "text/html": [
       "<div>\n",
       "<style scoped>\n",
       "    .dataframe tbody tr th:only-of-type {\n",
       "        vertical-align: middle;\n",
       "    }\n",
       "\n",
       "    .dataframe tbody tr th {\n",
       "        vertical-align: top;\n",
       "    }\n",
       "\n",
       "    .dataframe thead th {\n",
       "        text-align: right;\n",
       "    }\n",
       "</style>\n",
       "<table border=\"1\" class=\"dataframe\">\n",
       "  <thead>\n",
       "    <tr style=\"text-align: right;\">\n",
       "      <th></th>\n",
       "      <th>y_pred</th>\n",
       "      <th>y_real</th>\n",
       "      <th>difference</th>\n",
       "    </tr>\n",
       "  </thead>\n",
       "  <tbody>\n",
       "    <tr>\n",
       "      <th>0</th>\n",
       "      <td>0.308701</td>\n",
       "      <td>0.574868</td>\n",
       "      <td>0.266167</td>\n",
       "    </tr>\n",
       "    <tr>\n",
       "      <th>1</th>\n",
       "      <td>0.328406</td>\n",
       "      <td>0.399069</td>\n",
       "      <td>0.070663</td>\n",
       "    </tr>\n",
       "    <tr>\n",
       "      <th>2</th>\n",
       "      <td>0.365465</td>\n",
       "      <td>0.562335</td>\n",
       "      <td>0.196871</td>\n",
       "    </tr>\n",
       "    <tr>\n",
       "      <th>3</th>\n",
       "      <td>0.243004</td>\n",
       "      <td>0.310408</td>\n",
       "      <td>0.067404</td>\n",
       "    </tr>\n",
       "    <tr>\n",
       "      <th>4</th>\n",
       "      <td>0.160436</td>\n",
       "      <td>0.183797</td>\n",
       "      <td>0.023361</td>\n",
       "    </tr>\n",
       "  </tbody>\n",
       "</table>\n",
       "</div>"
      ],
      "text/plain": [
       "     y_pred    y_real  difference\n",
       "0  0.308701  0.574868    0.266167\n",
       "1  0.328406  0.399069    0.070663\n",
       "2  0.365465  0.562335    0.196871\n",
       "3  0.243004  0.310408    0.067404\n",
       "4  0.160436  0.183797    0.023361"
      ]
     },
     "execution_count": 87,
     "metadata": {},
     "output_type": "execute_result"
    }
   ],
   "source": [
    "df_y_pred.head()"
   ]
  },
  {
   "cell_type": "code",
   "execution_count": 88,
   "metadata": {},
   "outputs": [
    {
     "name": "stdout",
     "output_type": "stream",
     "text": [
      "-0.17958302561958708 0.26616722090036027\n"
     ]
    }
   ],
   "source": [
    "print(df_y_pred.difference.min(), df_y_pred.difference.max())"
   ]
  },
  {
   "cell_type": "code",
   "execution_count": null,
   "metadata": {},
   "outputs": [],
   "source": []
  },
  {
   "cell_type": "code",
   "execution_count": 89,
   "metadata": {},
   "outputs": [],
   "source": [
    "min = df_y.min()\n",
    "max = df_y.max()\n",
    "\n",
    "df_y_pred[\"difference\"] = df_y_pred.difference*(max-min)+min"
   ]
  },
  {
   "cell_type": "code",
   "execution_count": 90,
   "metadata": {},
   "outputs": [
    {
     "data": {
      "text/html": [
       "<div>\n",
       "<style scoped>\n",
       "    .dataframe tbody tr th:only-of-type {\n",
       "        vertical-align: middle;\n",
       "    }\n",
       "\n",
       "    .dataframe tbody tr th {\n",
       "        vertical-align: top;\n",
       "    }\n",
       "\n",
       "    .dataframe thead th {\n",
       "        text-align: right;\n",
       "    }\n",
       "</style>\n",
       "<table border=\"1\" class=\"dataframe\">\n",
       "  <thead>\n",
       "    <tr style=\"text-align: right;\">\n",
       "      <th></th>\n",
       "      <th>y_pred</th>\n",
       "      <th>y_real</th>\n",
       "      <th>difference</th>\n",
       "    </tr>\n",
       "  </thead>\n",
       "  <tbody>\n",
       "    <tr>\n",
       "      <th>0</th>\n",
       "      <td>0.308701</td>\n",
       "      <td>0.574868</td>\n",
       "      <td>3.554179e+06</td>\n",
       "    </tr>\n",
       "    <tr>\n",
       "      <th>1</th>\n",
       "      <td>0.328406</td>\n",
       "      <td>0.399069</td>\n",
       "      <td>1.437315e+06</td>\n",
       "    </tr>\n",
       "    <tr>\n",
       "      <th>2</th>\n",
       "      <td>0.365465</td>\n",
       "      <td>0.562335</td>\n",
       "      <td>2.803860e+06</td>\n",
       "    </tr>\n",
       "    <tr>\n",
       "      <th>3</th>\n",
       "      <td>0.243004</td>\n",
       "      <td>0.310408</td>\n",
       "      <td>1.402027e+06</td>\n",
       "    </tr>\n",
       "    <tr>\n",
       "      <th>4</th>\n",
       "      <td>0.160436</td>\n",
       "      <td>0.183797</td>\n",
       "      <td>9.251502e+05</td>\n",
       "    </tr>\n",
       "    <tr>\n",
       "      <th>5</th>\n",
       "      <td>0.294993</td>\n",
       "      <td>0.130425</td>\n",
       "      <td>-1.109694e+06</td>\n",
       "    </tr>\n",
       "    <tr>\n",
       "      <th>6</th>\n",
       "      <td>0.325487</td>\n",
       "      <td>0.145904</td>\n",
       "      <td>-1.272271e+06</td>\n",
       "    </tr>\n",
       "    <tr>\n",
       "      <th>7</th>\n",
       "      <td>0.604107</td>\n",
       "      <td>0.643156</td>\n",
       "      <td>1.095008e+06</td>\n",
       "    </tr>\n",
       "    <tr>\n",
       "      <th>8</th>\n",
       "      <td>0.290298</td>\n",
       "      <td>0.337172</td>\n",
       "      <td>1.179744e+06</td>\n",
       "    </tr>\n",
       "    <tr>\n",
       "      <th>9</th>\n",
       "      <td>0.195264</td>\n",
       "      <td>0.268460</td>\n",
       "      <td>1.464737e+06</td>\n",
       "    </tr>\n",
       "    <tr>\n",
       "      <th>10</th>\n",
       "      <td>0.325487</td>\n",
       "      <td>0.249342</td>\n",
       "      <td>-1.522711e+05</td>\n",
       "    </tr>\n",
       "    <tr>\n",
       "      <th>11</th>\n",
       "      <td>0.322575</td>\n",
       "      <td>0.362339</td>\n",
       "      <td>1.102755e+06</td>\n",
       "    </tr>\n",
       "    <tr>\n",
       "      <th>12</th>\n",
       "      <td>0.325487</td>\n",
       "      <td>0.464189</td>\n",
       "      <td>2.174029e+06</td>\n",
       "    </tr>\n",
       "    <tr>\n",
       "      <th>13</th>\n",
       "      <td>0.308700</td>\n",
       "      <td>0.252731</td>\n",
       "      <td>6.618469e+04</td>\n",
       "    </tr>\n",
       "    <tr>\n",
       "      <th>14</th>\n",
       "      <td>0.333608</td>\n",
       "      <td>0.386185</td>\n",
       "      <td>1.241493e+06</td>\n",
       "    </tr>\n",
       "    <tr>\n",
       "      <th>15</th>\n",
       "      <td>0.294993</td>\n",
       "      <td>0.289036</td>\n",
       "      <td>6.077059e+05</td>\n",
       "    </tr>\n",
       "    <tr>\n",
       "      <th>16</th>\n",
       "      <td>0.397532</td>\n",
       "      <td>0.537529</td>\n",
       "      <td>2.188047e+06</td>\n",
       "    </tr>\n",
       "  </tbody>\n",
       "</table>\n",
       "</div>"
      ],
      "text/plain": [
       "      y_pred    y_real    difference\n",
       "0   0.308701  0.574868  3.554179e+06\n",
       "1   0.328406  0.399069  1.437315e+06\n",
       "2   0.365465  0.562335  2.803860e+06\n",
       "3   0.243004  0.310408  1.402027e+06\n",
       "4   0.160436  0.183797  9.251502e+05\n",
       "5   0.294993  0.130425 -1.109694e+06\n",
       "6   0.325487  0.145904 -1.272271e+06\n",
       "7   0.604107  0.643156  1.095008e+06\n",
       "8   0.290298  0.337172  1.179744e+06\n",
       "9   0.195264  0.268460  1.464737e+06\n",
       "10  0.325487  0.249342 -1.522711e+05\n",
       "11  0.322575  0.362339  1.102755e+06\n",
       "12  0.325487  0.464189  2.174029e+06\n",
       "13  0.308700  0.252731  6.618469e+04\n",
       "14  0.333608  0.386185  1.241493e+06\n",
       "15  0.294993  0.289036  6.077059e+05\n",
       "16  0.397532  0.537529  2.188047e+06"
      ]
     },
     "execution_count": 90,
     "metadata": {},
     "output_type": "execute_result"
    }
   ],
   "source": [
    "df_y_pred"
   ]
  },
  {
   "cell_type": "code",
   "execution_count": 45,
   "metadata": {},
   "outputs": [
    {
     "data": {
      "text/plain": [
       "-0.20367559537441698"
      ]
     },
     "execution_count": 45,
     "metadata": {},
     "output_type": "execute_result"
    }
   ],
   "source": [
    "df_y_pred.difference.min()"
   ]
  },
  {
   "cell_type": "code",
   "execution_count": null,
   "metadata": {},
   "outputs": [],
   "source": []
  }
 ],
 "metadata": {
  "kernelspec": {
   "display_name": "Python 3",
   "language": "python",
   "name": "python3"
  },
  "language_info": {
   "codemirror_mode": {
    "name": "ipython",
    "version": 3
   },
   "file_extension": ".py",
   "mimetype": "text/x-python",
   "name": "python",
   "nbconvert_exporter": "python",
   "pygments_lexer": "ipython3",
   "version": "3.7.3"
  }
 },
 "nbformat": 4,
 "nbformat_minor": 4
}
