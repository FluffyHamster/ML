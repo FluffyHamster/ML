{
 "cells": [
  {
   "cell_type": "code",
   "execution_count": 1,
   "metadata": {},
   "outputs": [],
   "source": [
    "import pandas as pd\n",
    "import numpy as np"
   ]
  },
  {
   "cell_type": "code",
   "execution_count": 2,
   "metadata": {},
   "outputs": [],
   "source": [
    "data_1 = pd.read_csv(\"10246504_2018.csv\", header=None)\n",
    "data_2 = pd.read_csv(\"170070_2018.csv\", header=None)\n",
    "data_3 = pd.read_csv(\"170121_2018.csv\", header=None)\n",
    "data_4 = pd.read_csv(\"170130_2018.csv\", header=None)\n",
    "data_5 = pd.read_csv(\"201672_2018.csv\", header=None)\n",
    "data_6 = pd.read_csv(\"258467_2018.csv\", header=None)\n",
    "data_7 = pd.read_csv(\"258469_2018.csv\", header=None)"
   ]
  },
  {
   "cell_type": "code",
   "execution_count": 3,
   "metadata": {},
   "outputs": [
    {
     "data": {
      "text/html": [
       "<div>\n",
       "<style scoped>\n",
       "    .dataframe tbody tr th:only-of-type {\n",
       "        vertical-align: middle;\n",
       "    }\n",
       "\n",
       "    .dataframe tbody tr th {\n",
       "        vertical-align: top;\n",
       "    }\n",
       "\n",
       "    .dataframe thead th {\n",
       "        text-align: right;\n",
       "    }\n",
       "</style>\n",
       "<table border=\"1\" class=\"dataframe\">\n",
       "  <thead>\n",
       "    <tr style=\"text-align: right;\">\n",
       "      <th></th>\n",
       "      <th>data</th>\n",
       "      <th>cash</th>\n",
       "      <th>period</th>\n",
       "    </tr>\n",
       "  </thead>\n",
       "  <tbody>\n",
       "    <tr>\n",
       "      <th>0</th>\n",
       "      <td>2018-01-08 23:59:59</td>\n",
       "      <td>6156300</td>\n",
       "      <td>Выдача наличных денежных средств по УС 1024650...</td>\n",
       "    </tr>\n",
       "    <tr>\n",
       "      <th>1</th>\n",
       "      <td>2018-01-10 23:59:59</td>\n",
       "      <td>2123700</td>\n",
       "      <td>Выдача наличных денежных средств по УС 1024650...</td>\n",
       "    </tr>\n",
       "    <tr>\n",
       "      <th>2</th>\n",
       "      <td>2018-01-12 23:59:59</td>\n",
       "      <td>4243100</td>\n",
       "      <td>Выдача наличных денежных средств по УС 1024650...</td>\n",
       "    </tr>\n",
       "    <tr>\n",
       "      <th>3</th>\n",
       "      <td>2018-01-16 23:59:59</td>\n",
       "      <td>3444900</td>\n",
       "      <td>Выдача наличных денежных средств по УС 1024650...</td>\n",
       "    </tr>\n",
       "    <tr>\n",
       "      <th>4</th>\n",
       "      <td>2018-01-18 23:59:59</td>\n",
       "      <td>2649600</td>\n",
       "      <td>Выдача наличных денежных средств по УС 1024650...</td>\n",
       "    </tr>\n",
       "  </tbody>\n",
       "</table>\n",
       "</div>"
      ],
      "text/plain": [
       "                  data     cash  \\\n",
       "0  2018-01-08 23:59:59  6156300   \n",
       "1  2018-01-10 23:59:59  2123700   \n",
       "2  2018-01-12 23:59:59  4243100   \n",
       "3  2018-01-16 23:59:59  3444900   \n",
       "4  2018-01-18 23:59:59  2649600   \n",
       "\n",
       "                                              period  \n",
       "0  Выдача наличных денежных средств по УС 1024650...  \n",
       "1  Выдача наличных денежных средств по УС 1024650...  \n",
       "2  Выдача наличных денежных средств по УС 1024650...  \n",
       "3  Выдача наличных денежных средств по УС 1024650...  \n",
       "4  Выдача наличных денежных средств по УС 1024650...  "
      ]
     },
     "execution_count": 3,
     "metadata": {},
     "output_type": "execute_result"
    }
   ],
   "source": [
    "data_1 = pd.DataFrame(data_1)\n",
    "data_2 = pd.DataFrame(data_2)\n",
    "data_3 = pd.DataFrame(data_3)\n",
    "data_4 = pd.DataFrame(data_4)\n",
    "data_5 = pd.DataFrame(data_5)\n",
    "data_6 = pd.DataFrame(data_6)\n",
    "data_7 = pd.DataFrame(data_7)\n",
    "\n",
    "data_1 = data_1.rename(columns = {0:\"data\", 1:\"cash\", 2:\"period\"})\n",
    "data_2 = data_2.rename(columns = {0:\"data\", 1:\"cash\", 2:\"period\"})\n",
    "data_3 = data_3.rename(columns = {0:\"data\", 1:\"cash\", 2:\"period\"})\n",
    "data_4 = data_4.rename(columns = {0:\"data\", 1:\"cash\", 2:\"period\"})\n",
    "data_5 = data_5.rename(columns = {0:\"data\", 1:\"cash\", 2:\"period\"})\n",
    "data_6 = data_6.rename(columns = {0:\"data\", 1:\"cash\", 2:\"period\"})\n",
    "data_7 = data_7.rename(columns = {0:\"data\", 1:\"cash\", 2:\"period\"})\n",
    "\n",
    "data_1.head()"
   ]
  },
  {
   "cell_type": "code",
   "execution_count": 4,
   "metadata": {},
   "outputs": [],
   "source": [
    "import re"
   ]
  },
  {
   "cell_type": "code",
   "execution_count": 5,
   "metadata": {},
   "outputs": [],
   "source": [
    "def bank(data):\n",
    "    pattern = r\"[\\d\\.]+\"\n",
    "    pattern_2 = r\"[\\.]+\"\n",
    "    bank = []\n",
    "    \n",
    "    for i in range(data.period.size):\n",
    "        link = re.findall(pattern, data.period[i])\n",
    "        link_bank = []\n",
    "        for i in link:\n",
    "            i = re.sub(pattern_2, \"/\", i)\n",
    "            link_bank.append(i)\n",
    "        bank.append(link_bank)\n",
    "\n",
    "    bank = pd.DataFrame(bank, columns = [\"bank\", \"data_1\", \"data_2\"])\n",
    "    \n",
    "    bank['data_1'] = pd.to_datetime(bank['data_1'], format=\"%d/%m/%Y\")\n",
    "    bank['data_2'] = pd.to_datetime(bank['data_2'], format=\"%d/%m/%Y\")\n",
    "    \n",
    "    return bank"
   ]
  },
  {
   "cell_type": "code",
   "execution_count": 6,
   "metadata": {},
   "outputs": [
    {
     "data": {
      "text/html": [
       "<div>\n",
       "<style scoped>\n",
       "    .dataframe tbody tr th:only-of-type {\n",
       "        vertical-align: middle;\n",
       "    }\n",
       "\n",
       "    .dataframe tbody tr th {\n",
       "        vertical-align: top;\n",
       "    }\n",
       "\n",
       "    .dataframe thead th {\n",
       "        text-align: right;\n",
       "    }\n",
       "</style>\n",
       "<table border=\"1\" class=\"dataframe\">\n",
       "  <thead>\n",
       "    <tr style=\"text-align: right;\">\n",
       "      <th></th>\n",
       "      <th>bank</th>\n",
       "      <th>data_1</th>\n",
       "      <th>data_2</th>\n",
       "    </tr>\n",
       "  </thead>\n",
       "  <tbody>\n",
       "    <tr>\n",
       "      <th>0</th>\n",
       "      <td>10246504</td>\n",
       "      <td>2017-12-29</td>\n",
       "      <td>2018-01-08</td>\n",
       "    </tr>\n",
       "    <tr>\n",
       "      <th>1</th>\n",
       "      <td>10246504</td>\n",
       "      <td>2018-01-08</td>\n",
       "      <td>2018-01-10</td>\n",
       "    </tr>\n",
       "    <tr>\n",
       "      <th>2</th>\n",
       "      <td>10246504</td>\n",
       "      <td>2018-01-10</td>\n",
       "      <td>2018-01-12</td>\n",
       "    </tr>\n",
       "    <tr>\n",
       "      <th>3</th>\n",
       "      <td>10246504</td>\n",
       "      <td>2018-01-12</td>\n",
       "      <td>2018-01-16</td>\n",
       "    </tr>\n",
       "    <tr>\n",
       "      <th>4</th>\n",
       "      <td>10246504</td>\n",
       "      <td>2018-01-16</td>\n",
       "      <td>2018-01-18</td>\n",
       "    </tr>\n",
       "  </tbody>\n",
       "</table>\n",
       "</div>"
      ],
      "text/plain": [
       "       bank     data_1     data_2\n",
       "0  10246504 2017-12-29 2018-01-08\n",
       "1  10246504 2018-01-08 2018-01-10\n",
       "2  10246504 2018-01-10 2018-01-12\n",
       "3  10246504 2018-01-12 2018-01-16\n",
       "4  10246504 2018-01-16 2018-01-18"
      ]
     },
     "execution_count": 6,
     "metadata": {},
     "output_type": "execute_result"
    }
   ],
   "source": [
    "bank_1 = bank(data_1)\n",
    "bank_2 = bank(data_2)\n",
    "bank_3 = bank(data_3)\n",
    "bank_4 = bank(data_4)\n",
    "bank_5 = bank(data_5)\n",
    "bank_6 = bank(data_6)\n",
    "bank_7 = bank(data_7)\n",
    "\n",
    "bank_1.head()"
   ]
  },
  {
   "cell_type": "code",
   "execution_count": 7,
   "metadata": {},
   "outputs": [],
   "source": [
    "import pylab as plt"
   ]
  },
  {
   "cell_type": "code",
   "execution_count": null,
   "metadata": {},
   "outputs": [],
   "source": []
  },
  {
   "cell_type": "code",
   "execution_count": 8,
   "metadata": {},
   "outputs": [],
   "source": [
    "data_1.drop(['period', 'data'], axis='columns', inplace=True)\n",
    "data_2.drop(['period', 'data'], axis='columns', inplace=True)\n",
    "data_3.drop(['period', 'data'], axis='columns', inplace=True)\n",
    "data_4.drop(['period', 'data'], axis='columns', inplace=True)\n",
    "data_5.drop(['period', 'data'], axis='columns', inplace=True)\n",
    "data_6.drop(['period', 'data'], axis='columns', inplace=True)\n",
    "data_7.drop(['period', 'data'], axis='columns', inplace=True)"
   ]
  },
  {
   "cell_type": "code",
   "execution_count": 9,
   "metadata": {},
   "outputs": [
    {
     "data": {
      "text/html": [
       "<div>\n",
       "<style scoped>\n",
       "    .dataframe tbody tr th:only-of-type {\n",
       "        vertical-align: middle;\n",
       "    }\n",
       "\n",
       "    .dataframe tbody tr th {\n",
       "        vertical-align: top;\n",
       "    }\n",
       "\n",
       "    .dataframe thead th {\n",
       "        text-align: right;\n",
       "    }\n",
       "</style>\n",
       "<table border=\"1\" class=\"dataframe\">\n",
       "  <thead>\n",
       "    <tr style=\"text-align: right;\">\n",
       "      <th></th>\n",
       "      <th>bank</th>\n",
       "      <th>data_1</th>\n",
       "      <th>data_2</th>\n",
       "      <th>cash</th>\n",
       "    </tr>\n",
       "  </thead>\n",
       "  <tbody>\n",
       "    <tr>\n",
       "      <th>0</th>\n",
       "      <td>10246504</td>\n",
       "      <td>2017-12-29</td>\n",
       "      <td>2018-01-08</td>\n",
       "      <td>6156300</td>\n",
       "    </tr>\n",
       "    <tr>\n",
       "      <th>1</th>\n",
       "      <td>10246504</td>\n",
       "      <td>2018-01-08</td>\n",
       "      <td>2018-01-10</td>\n",
       "      <td>2123700</td>\n",
       "    </tr>\n",
       "    <tr>\n",
       "      <th>2</th>\n",
       "      <td>10246504</td>\n",
       "      <td>2018-01-10</td>\n",
       "      <td>2018-01-12</td>\n",
       "      <td>4243100</td>\n",
       "    </tr>\n",
       "    <tr>\n",
       "      <th>3</th>\n",
       "      <td>10246504</td>\n",
       "      <td>2018-01-12</td>\n",
       "      <td>2018-01-16</td>\n",
       "      <td>3444900</td>\n",
       "    </tr>\n",
       "    <tr>\n",
       "      <th>4</th>\n",
       "      <td>10246504</td>\n",
       "      <td>2018-01-16</td>\n",
       "      <td>2018-01-18</td>\n",
       "      <td>2649600</td>\n",
       "    </tr>\n",
       "  </tbody>\n",
       "</table>\n",
       "</div>"
      ],
      "text/plain": [
       "       bank     data_1     data_2     cash\n",
       "0  10246504 2017-12-29 2018-01-08  6156300\n",
       "1  10246504 2018-01-08 2018-01-10  2123700\n",
       "2  10246504 2018-01-10 2018-01-12  4243100\n",
       "3  10246504 2018-01-12 2018-01-16  3444900\n",
       "4  10246504 2018-01-16 2018-01-18  2649600"
      ]
     },
     "execution_count": 9,
     "metadata": {},
     "output_type": "execute_result"
    }
   ],
   "source": [
    "df_1 = pd.concat((bank_1, data_1),axis=1)\n",
    "df_2 = pd.concat((bank_2, data_2),axis=1)\n",
    "df_3 = pd.concat((bank_3, data_3),axis=1)\n",
    "df_4 = pd.concat((bank_4, data_4),axis=1)\n",
    "df_5 = pd.concat((bank_5, data_5),axis=1)\n",
    "df_6 = pd.concat((bank_6, data_6),axis=1)\n",
    "df_7 = pd.concat((bank_7, data_7),axis=1)\n",
    "\n",
    "df_1.head()"
   ]
  },
  {
   "cell_type": "code",
   "execution_count": 10,
   "metadata": {},
   "outputs": [],
   "source": [
    "import datetime"
   ]
  },
  {
   "cell_type": "code",
   "execution_count": 11,
   "metadata": {},
   "outputs": [
    {
     "data": {
      "text/plain": [
       "[<matplotlib.lines.Line2D at 0x7f75e0d4ebe0>]"
      ]
     },
     "execution_count": 11,
     "metadata": {},
     "output_type": "execute_result"
    },
    {
     "data": {
      "image/png": "[encoded data removed]",
      "text/plain": [
       "<Figure size 432x288 with 1 Axes>"
      ]
     },
     "metadata": {
      "needs_background": "light"
     },
     "output_type": "display_data"
    }
   ],
   "source": [
    "plt.plot(df_1.data_1, df_1.cash)"
   ]
  },
  {
   "cell_type": "code",
   "execution_count": 12,
   "metadata": {},
   "outputs": [
    {
     "data": {
      "text/plain": [
       "[<matplotlib.lines.Line2D at 0x7f75deccba20>]"
      ]
     },
     "execution_count": 12,
     "metadata": {},
     "output_type": "execute_result"
    },
    {
     "data": {
      "image/png": "[encoded data removed]",
      "text/plain": [
       "<Figure size 432x288 with 1 Axes>"
      ]
     },
     "metadata": {
      "needs_background": "light"
     },
     "output_type": "display_data"
    }
   ],
   "source": [
    "plt.plot(df_2.data_1, df_2.cash)"
   ]
  },
  {
   "cell_type": "code",
   "execution_count": 13,
   "metadata": {},
   "outputs": [],
   "source": [
    "def features(df):\n",
    "    \n",
    "    df_days = []\n",
    "    holiday_date = {1:[1,2,3,4,5,6,7,8], 2: [23], 3: [8], 4:[], 5: [1,9], 6: [12],7:[], 8:[], 9:[], 10:[], 11:[4], 12:[]}\n",
    "\n",
    "    for i in range(df.data_1.size):\n",
    "        start_date = df.data_1[i]\n",
    "        end_date = df.data_2[i]\n",
    "    \n",
    "        weekend = 0\n",
    "        weekdays = 0\n",
    "        holiday = 0\n",
    "        winter = False\n",
    "        spring = False\n",
    "        summer = False\n",
    "        fall = False\n",
    "        end_or_begin_month = False\n",
    "        months = set()\n",
    "\n",
    "        day_count = (end_date - start_date).days\n",
    "        for single_date in [d for d in (start_date + datetime.timedelta(days=n) for n in range(day_count)) if d <= end_date]: \n",
    "            \n",
    "            if single_date.strftime(\"%A\") == 'Saturday' or single_date.strftime(\"%A\") == 'Sunday':\n",
    "                weekend += 1\n",
    "            else:\n",
    "                weekdays += 1\n",
    "            \n",
    "            month = holiday_date[single_date.month]\n",
    "            if len(month) != 0:\n",
    "                for day in month:\n",
    "                    if day == single_date.day:\n",
    "                        holiday += 1\n",
    "            \n",
    "            if single_date.day < 10 or single_date.day > 25:\n",
    "                end_or_begin_month = True\n",
    "        \n",
    "            months.add(single_date.strftime(\"%m\"))  \n",
    "        for month in months:\n",
    "            if month == \"01\" or month == \"02\" or month == \"12\":\n",
    "                winter = True\n",
    "            elif month == \"03\" or month == \"04\" or month == \"05\":\n",
    "                spring = True\n",
    "            elif month == \"06\" or month == \"07\" or month == \"08\":\n",
    "                summer = True\n",
    "            elif month == \"09\" or month == \"10\" or month == \"11\":\n",
    "                fall = True\n",
    "    \n",
    "    \n",
    "        df_day = [day_count, weekend, holiday, winter, spring, summer, fall, end_or_begin_month]\n",
    "        df_days.append(df_day)\n",
    "\n",
    "    days = pd.DataFrame(df_days, columns = [\"weekdays\", \"weekend\", \"holiday\", \"winter\", \"spring\", \"summer\", \"fall\", \"end_or_begin_month\"])   \n",
    "    \n",
    "    return days\n"
   ]
  },
  {
   "cell_type": "code",
   "execution_count": 14,
   "metadata": {},
   "outputs": [
    {
     "data": {
      "text/html": [
       "<div>\n",
       "<style scoped>\n",
       "    .dataframe tbody tr th:only-of-type {\n",
       "        vertical-align: middle;\n",
       "    }\n",
       "\n",
       "    .dataframe tbody tr th {\n",
       "        vertical-align: top;\n",
       "    }\n",
       "\n",
       "    .dataframe thead th {\n",
       "        text-align: right;\n",
       "    }\n",
       "</style>\n",
       "<table border=\"1\" class=\"dataframe\">\n",
       "  <thead>\n",
       "    <tr style=\"text-align: right;\">\n",
       "      <th></th>\n",
       "      <th>weekdays</th>\n",
       "      <th>weekend</th>\n",
       "      <th>holiday</th>\n",
       "      <th>winter</th>\n",
       "      <th>spring</th>\n",
       "      <th>summer</th>\n",
       "      <th>fall</th>\n",
       "      <th>end_or_begin_month</th>\n",
       "    </tr>\n",
       "  </thead>\n",
       "  <tbody>\n",
       "    <tr>\n",
       "      <th>0</th>\n",
       "      <td>10</td>\n",
       "      <td>4</td>\n",
       "      <td>7</td>\n",
       "      <td>True</td>\n",
       "      <td>False</td>\n",
       "      <td>False</td>\n",
       "      <td>False</td>\n",
       "      <td>True</td>\n",
       "    </tr>\n",
       "    <tr>\n",
       "      <th>1</th>\n",
       "      <td>2</td>\n",
       "      <td>0</td>\n",
       "      <td>1</td>\n",
       "      <td>True</td>\n",
       "      <td>False</td>\n",
       "      <td>False</td>\n",
       "      <td>False</td>\n",
       "      <td>True</td>\n",
       "    </tr>\n",
       "    <tr>\n",
       "      <th>2</th>\n",
       "      <td>2</td>\n",
       "      <td>0</td>\n",
       "      <td>0</td>\n",
       "      <td>True</td>\n",
       "      <td>False</td>\n",
       "      <td>False</td>\n",
       "      <td>False</td>\n",
       "      <td>False</td>\n",
       "    </tr>\n",
       "    <tr>\n",
       "      <th>3</th>\n",
       "      <td>4</td>\n",
       "      <td>2</td>\n",
       "      <td>0</td>\n",
       "      <td>True</td>\n",
       "      <td>False</td>\n",
       "      <td>False</td>\n",
       "      <td>False</td>\n",
       "      <td>False</td>\n",
       "    </tr>\n",
       "    <tr>\n",
       "      <th>4</th>\n",
       "      <td>2</td>\n",
       "      <td>0</td>\n",
       "      <td>0</td>\n",
       "      <td>True</td>\n",
       "      <td>False</td>\n",
       "      <td>False</td>\n",
       "      <td>False</td>\n",
       "      <td>False</td>\n",
       "    </tr>\n",
       "  </tbody>\n",
       "</table>\n",
       "</div>"
      ],
      "text/plain": [
       "   weekdays  weekend  holiday  winter  spring  summer   fall  \\\n",
       "0        10        4        7    True   False   False  False   \n",
       "1         2        0        1    True   False   False  False   \n",
       "2         2        0        0    True   False   False  False   \n",
       "3         4        2        0    True   False   False  False   \n",
       "4         2        0        0    True   False   False  False   \n",
       "\n",
       "   end_or_begin_month  \n",
       "0                True  \n",
       "1                True  \n",
       "2               False  \n",
       "3               False  \n",
       "4               False  "
      ]
     },
     "execution_count": 14,
     "metadata": {},
     "output_type": "execute_result"
    }
   ],
   "source": [
    "features_1 = features(df_1) \n",
    "features_2 = features(df_2)\n",
    "features_3 = features(df_3)\n",
    "features_4 = features(df_4)\n",
    "features_5 = features(df_5)\n",
    "features_6 = features(df_6)\n",
    "features_7 = features(df_7)\n",
    "\n",
    "features_1.head()"
   ]
  },
  {
   "cell_type": "code",
   "execution_count": 15,
   "metadata": {},
   "outputs": [
    {
     "data": {
      "text/html": [
       "<div>\n",
       "<style scoped>\n",
       "    .dataframe tbody tr th:only-of-type {\n",
       "        vertical-align: middle;\n",
       "    }\n",
       "\n",
       "    .dataframe tbody tr th {\n",
       "        vertical-align: top;\n",
       "    }\n",
       "\n",
       "    .dataframe thead th {\n",
       "        text-align: right;\n",
       "    }\n",
       "</style>\n",
       "<table border=\"1\" class=\"dataframe\">\n",
       "  <thead>\n",
       "    <tr style=\"text-align: right;\">\n",
       "      <th></th>\n",
       "      <th>bank</th>\n",
       "      <th>data_1</th>\n",
       "      <th>data_2</th>\n",
       "      <th>cash</th>\n",
       "      <th>weekdays</th>\n",
       "      <th>weekend</th>\n",
       "      <th>holiday</th>\n",
       "      <th>winter</th>\n",
       "      <th>spring</th>\n",
       "      <th>summer</th>\n",
       "      <th>fall</th>\n",
       "      <th>end_or_begin_month</th>\n",
       "    </tr>\n",
       "  </thead>\n",
       "  <tbody>\n",
       "    <tr>\n",
       "      <th>0</th>\n",
       "      <td>10246504</td>\n",
       "      <td>2017-12-29</td>\n",
       "      <td>2018-01-08</td>\n",
       "      <td>6156300</td>\n",
       "      <td>10</td>\n",
       "      <td>4</td>\n",
       "      <td>7</td>\n",
       "      <td>True</td>\n",
       "      <td>False</td>\n",
       "      <td>False</td>\n",
       "      <td>False</td>\n",
       "      <td>True</td>\n",
       "    </tr>\n",
       "    <tr>\n",
       "      <th>1</th>\n",
       "      <td>10246504</td>\n",
       "      <td>2018-01-08</td>\n",
       "      <td>2018-01-10</td>\n",
       "      <td>2123700</td>\n",
       "      <td>2</td>\n",
       "      <td>0</td>\n",
       "      <td>1</td>\n",
       "      <td>True</td>\n",
       "      <td>False</td>\n",
       "      <td>False</td>\n",
       "      <td>False</td>\n",
       "      <td>True</td>\n",
       "    </tr>\n",
       "    <tr>\n",
       "      <th>2</th>\n",
       "      <td>10246504</td>\n",
       "      <td>2018-01-10</td>\n",
       "      <td>2018-01-12</td>\n",
       "      <td>4243100</td>\n",
       "      <td>2</td>\n",
       "      <td>0</td>\n",
       "      <td>0</td>\n",
       "      <td>True</td>\n",
       "      <td>False</td>\n",
       "      <td>False</td>\n",
       "      <td>False</td>\n",
       "      <td>False</td>\n",
       "    </tr>\n",
       "    <tr>\n",
       "      <th>3</th>\n",
       "      <td>10246504</td>\n",
       "      <td>2018-01-12</td>\n",
       "      <td>2018-01-16</td>\n",
       "      <td>3444900</td>\n",
       "      <td>4</td>\n",
       "      <td>2</td>\n",
       "      <td>0</td>\n",
       "      <td>True</td>\n",
       "      <td>False</td>\n",
       "      <td>False</td>\n",
       "      <td>False</td>\n",
       "      <td>False</td>\n",
       "    </tr>\n",
       "    <tr>\n",
       "      <th>4</th>\n",
       "      <td>10246504</td>\n",
       "      <td>2018-01-16</td>\n",
       "      <td>2018-01-18</td>\n",
       "      <td>2649600</td>\n",
       "      <td>2</td>\n",
       "      <td>0</td>\n",
       "      <td>0</td>\n",
       "      <td>True</td>\n",
       "      <td>False</td>\n",
       "      <td>False</td>\n",
       "      <td>False</td>\n",
       "      <td>False</td>\n",
       "    </tr>\n",
       "  </tbody>\n",
       "</table>\n",
       "</div>"
      ],
      "text/plain": [
       "       bank     data_1     data_2     cash  weekdays  weekend  holiday  \\\n",
       "0  10246504 2017-12-29 2018-01-08  6156300        10        4        7   \n",
       "1  10246504 2018-01-08 2018-01-10  2123700         2        0        1   \n",
       "2  10246504 2018-01-10 2018-01-12  4243100         2        0        0   \n",
       "3  10246504 2018-01-12 2018-01-16  3444900         4        2        0   \n",
       "4  10246504 2018-01-16 2018-01-18  2649600         2        0        0   \n",
       "\n",
       "   winter  spring  summer   fall  end_or_begin_month  \n",
       "0    True   False   False  False                True  \n",
       "1    True   False   False  False                True  \n",
       "2    True   False   False  False               False  \n",
       "3    True   False   False  False               False  \n",
       "4    True   False   False  False               False  "
      ]
     },
     "execution_count": 15,
     "metadata": {},
     "output_type": "execute_result"
    }
   ],
   "source": [
    "df_1 = pd.concat((df_1, features_1), axis=1)\n",
    "df_2 = pd.concat((df_2, features_2), axis=1)\n",
    "df_3 = pd.concat((df_3, features_3), axis=1)\n",
    "df_4 = pd.concat((df_4, features_4), axis=1)\n",
    "df_5 = pd.concat((df_5, features_5), axis=1)\n",
    "df_6 = pd.concat((df_6, features_6), axis=1)\n",
    "df_7 = pd.concat((df_7, features_7), axis=1)\n",
    "\n",
    "df_1.head()"
   ]
  },
  {
   "cell_type": "code",
   "execution_count": 16,
   "metadata": {},
   "outputs": [],
   "source": [
    "#df_1_2 = df_1.append(df_2, ignore_index=True)\n",
    "#df_3_4 = df_3.append(df_4, ignore_index=True)\n",
    "#df_5_6 = df_5.append(df_6, ignore_index=True)\n",
    "#df_1234 = df_1_2.append(df_3_4, ignore_index=True)\n",
    "#df_567 = df_5_6.append(df_7, ignore_index=True)\n",
    "\n",
    "#df = df_1234.append(df_567, ignore_index=True)\n",
    "#df.head()"
   ]
  },
  {
   "cell_type": "code",
   "execution_count": 17,
   "metadata": {},
   "outputs": [],
   "source": [
    "def norm(df, name_col):\n",
    "    min = df[name_col].min()\n",
    "    max = df[name_col].max()\n",
    "\n",
    "    df[name_col] = (df[name_col] - min)/(max - min)"
   ]
  },
  {
   "cell_type": "code",
   "execution_count": 18,
   "metadata": {},
   "outputs": [],
   "source": [
    "def norm_df(df):\n",
    "    for name in ['cash', 'weekdays', 'weekend', 'holiday']:\n",
    "        norm(df, name)\n"
   ]
  },
  {
   "cell_type": "code",
   "execution_count": 19,
   "metadata": {},
   "outputs": [],
   "source": [
    "df_1.drop(['bank','data_1','data_2'], axis='columns', inplace=True)\n",
    "df_2.drop(['bank','data_1','data_2'], axis='columns', inplace=True)\n",
    "df_3.drop(['bank','data_1','data_2'], axis='columns', inplace=True)\n",
    "df_4.drop(['bank','data_1','data_2'], axis='columns', inplace=True)\n",
    "df_5.drop(['bank','data_1','data_2'], axis='columns', inplace=True)\n",
    "df_6.drop(['bank','data_1','data_2'], axis='columns', inplace=True)\n",
    "df_7.drop(['bank','data_1','data_2'], axis='columns', inplace=True)"
   ]
  },
  {
   "cell_type": "code",
   "execution_count": 20,
   "metadata": {},
   "outputs": [],
   "source": [
    "df_1 = df_1.astype('int64')\n",
    "df_2 = df_2.astype('int64')\n",
    "df_3 = df_3.astype('int64')\n",
    "df_4 = df_4.astype('int64')\n",
    "df_5 = df_5.astype('int64')\n",
    "df_6 = df_6.astype('int64')\n",
    "df_7 = df_7.astype('int64')"
   ]
  },
  {
   "cell_type": "code",
   "execution_count": 21,
   "metadata": {},
   "outputs": [],
   "source": [
    "min_y_1 = df_1.cash.min()\n",
    "max_y_1 = df_1.cash.max()\n",
    "min_y_2 = df_2.cash.min()\n",
    "max_y_2 = df_2.cash.max()\n",
    "min_y_3 = df_3.cash.min()\n",
    "max_y_3 = df_3.cash.max()\n",
    "min_y_4 = df_4.cash.min()\n",
    "max_y_4 = df_4.cash.max()\n",
    "min_y_5 = df_5.cash.min()\n",
    "max_y_5 = df_5.cash.max()\n",
    "min_y_6 = df_6.cash.min()\n",
    "max_y_6 = df_6.cash.max()\n",
    "min_y_7 = df_7.cash.min()\n",
    "max_y_7 = df_7.cash.max()"
   ]
  },
  {
   "cell_type": "code",
   "execution_count": 22,
   "metadata": {},
   "outputs": [],
   "source": [
    "norm_df(df_1)\n",
    "norm_df(df_2)\n",
    "norm_df(df_3)\n",
    "norm_df(df_4)\n",
    "norm_df(df_5)\n",
    "norm_df(df_6)\n",
    "norm_df(df_7)"
   ]
  },
  {
   "cell_type": "code",
   "execution_count": 23,
   "metadata": {},
   "outputs": [],
   "source": [
    "from sklearn.model_selection import train_test_split"
   ]
  },
  {
   "cell_type": "code",
   "execution_count": 24,
   "metadata": {},
   "outputs": [],
   "source": [
    "from sklearn.tree import DecisionTreeRegressor\n",
    "from sklearn.ensemble import AdaBoostRegressor\n"
   ]
  },
  {
   "cell_type": "code",
   "execution_count": 67,
   "metadata": {},
   "outputs": [],
   "source": [
    "def model(df):\n",
    "    \n",
    "    X = df[[\"weekdays\", \"weekend\", \"holiday\", \"winter\", \"spring\", \"summer\", \"fall\", \"end_or_begin_month\"]]\n",
    "    y = df[\"cash\"]\n",
    "    \n",
    "    X_train, X_test, y_train, y_test = train_test_split(X, y, test_size=0.30, random_state=42)\n",
    "   \n",
    "    score = []\n",
    "    \n",
    "    for i in range(1, 20, 2):\n",
    "        regr = AdaBoostRegressor(DecisionTreeRegressor(max_depth=i),\n",
    "                          n_estimators=300, random_state=0)\n",
    "        regr.fit(X_train, y_train)\n",
    "        \n",
    "        s = [i, regr.score(X_train, y_train), regr.score(X_test, y_test)]\n",
    "        score.append(s)\n",
    "    \n",
    "    data_score = pd.DataFrame(score, columns = [\"max_depth\", \"score_train\", \"score_test\"])\n",
    "    return data_score"
   ]
  },
  {
   "cell_type": "code",
   "execution_count": 68,
   "metadata": {},
   "outputs": [
    {
     "name": "stdout",
     "output_type": "stream",
     "text": [
      "df_1 (67, 9)\n",
      "   max_depth  score_train\n",
      "0          1     0.329481\n",
      "1          3     0.657318\n",
      "2          5     0.762042\n",
      "3          7     0.754347\n",
      "4          9     0.745156\n",
      "5         11     0.755343\n",
      "6         13     0.755343\n",
      "7         15     0.755343\n",
      "8         17     0.755343\n",
      "9         19     0.755343\n",
      "df_2 (253, 9)\n",
      "   max_depth  score_train\n",
      "0          1     0.366265\n",
      "1          3     0.624334\n",
      "2          5     0.680715\n",
      "3          7     0.683664\n",
      "4          9     0.690737\n",
      "5         11     0.689907\n",
      "6         13     0.689907\n",
      "7         15     0.689907\n",
      "8         17     0.689907\n",
      "9         19     0.689907\n",
      "df_3 (286, 9)\n",
      "   max_depth  score_train\n",
      "0          1     0.318269\n",
      "1          3     0.467105\n",
      "2          5     0.541446\n",
      "3          7     0.531912\n",
      "4          9     0.557102\n",
      "5         11     0.549318\n",
      "6         13     0.549318\n",
      "7         15     0.549318\n",
      "8         17     0.549318\n",
      "9         19     0.549318\n",
      "df_4 (193, 9)\n",
      "   max_depth  score_train\n",
      "0          1     0.199177\n",
      "1          3     0.418026\n",
      "2          5     0.542849\n",
      "3          7     0.561292\n",
      "4          9     0.554006\n",
      "5         11     0.564636\n",
      "6         13     0.564636\n",
      "7         15     0.564636\n",
      "8         17     0.564636\n",
      "9         19     0.564636\n",
      "df_5 (162, 9)\n",
      "   max_depth  score_train\n",
      "0          1     0.153065\n",
      "1          3     0.430652\n",
      "2          5     0.496798\n",
      "3          7     0.517368\n",
      "4          9     0.528641\n",
      "5         11     0.520924\n",
      "6         13     0.525106\n",
      "7         15     0.525106\n",
      "8         17     0.525106\n",
      "9         19     0.525106\n",
      "df_6 (183, 9)\n",
      "   max_depth  score_train\n",
      "0          1     0.142127\n",
      "1          3     0.436562\n",
      "2          5     0.437196\n",
      "3          7     0.475071\n",
      "4          9     0.447593\n",
      "5         11     0.549219\n",
      "6         13     0.541226\n",
      "7         15     0.541226\n",
      "8         17     0.541226\n",
      "9         19     0.541226\n",
      "df_7 (294, 9)\n",
      "   max_depth  score_train\n",
      "0          1     0.374620\n",
      "1          3     0.492962\n",
      "2          5     0.509116\n",
      "3          7     0.533629\n",
      "4          9     0.545691\n",
      "5         11     0.582142\n",
      "6         13     0.582142\n",
      "7         15     0.582142\n",
      "8         17     0.582142\n",
      "9         19     0.582142\n"
     ]
    }
   ],
   "source": [
    "print(\"df_1\", df_1.shape)\n",
    "print(model(df_1))\n",
    "print(\"df_2\", df_2.shape)\n",
    "print(model(df_2))\n",
    "print(\"df_3\", df_3.shape)\n",
    "print(model(df_3))\n",
    "print(\"df_4\", df_4.shape)\n",
    "print(model(df_4))\n",
    "print(\"df_5\", df_5.shape)\n",
    "print(model(df_5))\n",
    "print(\"df_6\", df_6.shape)\n",
    "print(model(df_6))\n",
    "print(\"df_7\", df_7.shape)\n",
    "print(model(df_7))\n"
   ]
  },
  {
   "cell_type": "code",
   "execution_count": 36,
   "metadata": {},
   "outputs": [],
   "source": [
    "y_real = []\n",
    "for y in y_test:\n",
    "    y_real.append(y)"
   ]
  },
  {
   "cell_type": "code",
   "execution_count": 37,
   "metadata": {},
   "outputs": [],
   "source": [
    "y_pred = pd.DataFrame(regr_2.predict(X_test), columns = [\"y_pred\"])\n",
    "y_real = pd.DataFrame(y_real, columns = [\"y_real\"])\n",
    "df_y_pred = pd.concat((y_pred, y_real),axis=1)"
   ]
  },
  {
   "cell_type": "code",
   "execution_count": 38,
   "metadata": {},
   "outputs": [],
   "source": [
    "df_y_pred[\"difference\"] = df_y_pred.y_real - df_y_pred.y_pred"
   ]
  },
  {
   "cell_type": "code",
   "execution_count": 39,
   "metadata": {},
   "outputs": [
    {
     "data": {
      "text/html": [
       "<div>\n",
       "<style scoped>\n",
       "    .dataframe tbody tr th:only-of-type {\n",
       "        vertical-align: middle;\n",
       "    }\n",
       "\n",
       "    .dataframe tbody tr th {\n",
       "        vertical-align: top;\n",
       "    }\n",
       "\n",
       "    .dataframe thead th {\n",
       "        text-align: right;\n",
       "    }\n",
       "</style>\n",
       "<table border=\"1\" class=\"dataframe\">\n",
       "  <thead>\n",
       "    <tr style=\"text-align: right;\">\n",
       "      <th></th>\n",
       "      <th>y_pred</th>\n",
       "      <th>y_real</th>\n",
       "      <th>difference</th>\n",
       "    </tr>\n",
       "  </thead>\n",
       "  <tbody>\n",
       "    <tr>\n",
       "      <th>0</th>\n",
       "      <td>0.313485</td>\n",
       "      <td>0.421724</td>\n",
       "      <td>0.108240</td>\n",
       "    </tr>\n",
       "    <tr>\n",
       "      <th>1</th>\n",
       "      <td>0.431933</td>\n",
       "      <td>0.307109</td>\n",
       "      <td>-0.124824</td>\n",
       "    </tr>\n",
       "    <tr>\n",
       "      <th>2</th>\n",
       "      <td>0.326848</td>\n",
       "      <td>0.240968</td>\n",
       "      <td>-0.085880</td>\n",
       "    </tr>\n",
       "    <tr>\n",
       "      <th>3</th>\n",
       "      <td>0.201609</td>\n",
       "      <td>0.267990</td>\n",
       "      <td>0.066381</td>\n",
       "    </tr>\n",
       "    <tr>\n",
       "      <th>4</th>\n",
       "      <td>0.186839</td>\n",
       "      <td>0.330702</td>\n",
       "      <td>0.143863</td>\n",
       "    </tr>\n",
       "  </tbody>\n",
       "</table>\n",
       "</div>"
      ],
      "text/plain": [
       "     y_pred    y_real  difference\n",
       "0  0.313485  0.421724    0.108240\n",
       "1  0.431933  0.307109   -0.124824\n",
       "2  0.326848  0.240968   -0.085880\n",
       "3  0.201609  0.267990    0.066381\n",
       "4  0.186839  0.330702    0.143863"
      ]
     },
     "execution_count": 39,
     "metadata": {},
     "output_type": "execute_result"
    }
   ],
   "source": [
    "df_y_pred.head()"
   ]
  },
  {
   "cell_type": "code",
   "execution_count": 40,
   "metadata": {},
   "outputs": [],
   "source": [
    "df_y_pred[\"difference\"] = df_y_pred.difference*(max_y-min_y)+min_y"
   ]
  },
  {
   "cell_type": "code",
   "execution_count": 41,
   "metadata": {},
   "outputs": [
    {
     "data": {
      "text/html": [
       "<div>\n",
       "<style scoped>\n",
       "    .dataframe tbody tr th:only-of-type {\n",
       "        vertical-align: middle;\n",
       "    }\n",
       "\n",
       "    .dataframe tbody tr th {\n",
       "        vertical-align: top;\n",
       "    }\n",
       "\n",
       "    .dataframe thead th {\n",
       "        text-align: right;\n",
       "    }\n",
       "</style>\n",
       "<table border=\"1\" class=\"dataframe\">\n",
       "  <thead>\n",
       "    <tr style=\"text-align: right;\">\n",
       "      <th></th>\n",
       "      <th>y_pred</th>\n",
       "      <th>y_real</th>\n",
       "      <th>difference</th>\n",
       "    </tr>\n",
       "  </thead>\n",
       "  <tbody>\n",
       "    <tr>\n",
       "      <th>0</th>\n",
       "      <td>0.313485</td>\n",
       "      <td>0.421724</td>\n",
       "      <td>1433900.0</td>\n",
       "    </tr>\n",
       "    <tr>\n",
       "      <th>1</th>\n",
       "      <td>0.431933</td>\n",
       "      <td>0.307109</td>\n",
       "      <td>-700800.0</td>\n",
       "    </tr>\n",
       "    <tr>\n",
       "      <th>2</th>\n",
       "      <td>0.326848</td>\n",
       "      <td>0.240968</td>\n",
       "      <td>-344100.0</td>\n",
       "    </tr>\n",
       "    <tr>\n",
       "      <th>3</th>\n",
       "      <td>0.201609</td>\n",
       "      <td>0.267990</td>\n",
       "      <td>1050500.0</td>\n",
       "    </tr>\n",
       "    <tr>\n",
       "      <th>4</th>\n",
       "      <td>0.186839</td>\n",
       "      <td>0.330702</td>\n",
       "      <td>1760187.5</td>\n",
       "    </tr>\n",
       "  </tbody>\n",
       "</table>\n",
       "</div>"
      ],
      "text/plain": [
       "     y_pred    y_real  difference\n",
       "0  0.313485  0.421724   1433900.0\n",
       "1  0.431933  0.307109   -700800.0\n",
       "2  0.326848  0.240968   -344100.0\n",
       "3  0.201609  0.267990   1050500.0\n",
       "4  0.186839  0.330702   1760187.5"
      ]
     },
     "execution_count": 41,
     "metadata": {},
     "output_type": "execute_result"
    }
   ],
   "source": [
    "df_y_pred.head()"
   ]
  },
  {
   "cell_type": "code",
   "execution_count": 42,
   "metadata": {},
   "outputs": [
    {
     "data": {
      "text/plain": [
       "1760187.5000000002"
      ]
     },
     "execution_count": 42,
     "metadata": {},
     "output_type": "execute_result"
    }
   ],
   "source": [
    "df_y_pred.difference.max()"
   ]
  },
  {
   "cell_type": "code",
   "execution_count": 43,
   "metadata": {},
   "outputs": [
    {
     "data": {
      "text/plain": [
       "-700800.0"
      ]
     },
     "execution_count": 43,
     "metadata": {},
     "output_type": "execute_result"
    }
   ],
   "source": [
    "df_y_pred.difference.min()"
   ]
  },
  {
   "cell_type": "code",
   "execution_count": null,
   "metadata": {},
   "outputs": [],
   "source": []
  }
 ],
 "metadata": {
  "kernelspec": {
   "display_name": "Python 3",
   "language": "python",
   "name": "python3"
  },
  "language_info": {
   "codemirror_mode": {
    "name": "ipython",
    "version": 3
   },
   "file_extension": ".py",
   "mimetype": "text/x-python",
   "name": "python",
   "nbconvert_exporter": "python",
   "pygments_lexer": "ipython3",
   "version": "3.7.3"
  }
 },
 "nbformat": 4,
 "nbformat_minor": 4
}
