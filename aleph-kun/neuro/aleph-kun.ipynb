{
 "cells": [
  {
   "cell_type": "markdown",
   "metadata": {},
   "source": [
    "Подключение неюбходимых библиотек для работы с данными"
   ]
  },
  {
   "cell_type": "code",
   "execution_count": 11,
   "metadata": {},
   "outputs": [],
   "source": [
    "import pandas as pd\n",
    "import re\n",
    "import pylab as plt\n",
    "import datetime"
   ]
  },
  {
   "cell_type": "markdown",
   "metadata": {},
   "source": [
    "Считываем данные по банкоматам"
   ]
  },
  {
   "cell_type": "code",
   "execution_count": 2,
   "metadata": {},
   "outputs": [],
   "source": [
    "data_1 = pd.read_csv(\"10246504_2018.csv\", header=None)\n",
    "data_2 = pd.read_csv(\"170070_2018.csv\", header=None)\n",
    "data_3 = pd.read_csv(\"170121_2018.csv\", header=None)\n",
    "data_4 = pd.read_csv(\"170130_2018.csv\", header=None)\n",
    "data_5 = pd.read_csv(\"201672_2018.csv\", header=None)\n",
    "data_6 = pd.read_csv(\"258467_2018.csv\", header=None)\n",
    "data_7 = pd.read_csv(\"258469_2018.csv\", header=None)"
   ]
  },
  {
   "cell_type": "markdown",
   "metadata": {},
   "source": [
    "Создаем DataFrame для дальнейшей работы с данными, а также переименовываем колонки для удобства работы"
   ]
  },
  {
   "cell_type": "code",
   "execution_count": 3,
   "metadata": {},
   "outputs": [
    {
     "data": {
      "text/html": [
       "<div>\n",
       "<style scoped>\n",
       "    .dataframe tbody tr th:only-of-type {\n",
       "        vertical-align: middle;\n",
       "    }\n",
       "\n",
       "    .dataframe tbody tr th {\n",
       "        vertical-align: top;\n",
       "    }\n",
       "\n",
       "    .dataframe thead th {\n",
       "        text-align: right;\n",
       "    }\n",
       "</style>\n",
       "<table border=\"1\" class=\"dataframe\">\n",
       "  <thead>\n",
       "    <tr style=\"text-align: right;\">\n",
       "      <th></th>\n",
       "      <th>data</th>\n",
       "      <th>cash</th>\n",
       "      <th>period</th>\n",
       "    </tr>\n",
       "  </thead>\n",
       "  <tbody>\n",
       "    <tr>\n",
       "      <th>0</th>\n",
       "      <td>2018-01-08 23:59:59</td>\n",
       "      <td>6156300</td>\n",
       "      <td>Выдача наличных денежных средств по УС 1024650...</td>\n",
       "    </tr>\n",
       "    <tr>\n",
       "      <th>1</th>\n",
       "      <td>2018-01-10 23:59:59</td>\n",
       "      <td>2123700</td>\n",
       "      <td>Выдача наличных денежных средств по УС 1024650...</td>\n",
       "    </tr>\n",
       "    <tr>\n",
       "      <th>2</th>\n",
       "      <td>2018-01-12 23:59:59</td>\n",
       "      <td>4243100</td>\n",
       "      <td>Выдача наличных денежных средств по УС 1024650...</td>\n",
       "    </tr>\n",
       "    <tr>\n",
       "      <th>3</th>\n",
       "      <td>2018-01-16 23:59:59</td>\n",
       "      <td>3444900</td>\n",
       "      <td>Выдача наличных денежных средств по УС 1024650...</td>\n",
       "    </tr>\n",
       "    <tr>\n",
       "      <th>4</th>\n",
       "      <td>2018-01-18 23:59:59</td>\n",
       "      <td>2649600</td>\n",
       "      <td>Выдача наличных денежных средств по УС 1024650...</td>\n",
       "    </tr>\n",
       "  </tbody>\n",
       "</table>\n",
       "</div>"
      ],
      "text/plain": [
       "                  data     cash  \\\n",
       "0  2018-01-08 23:59:59  6156300   \n",
       "1  2018-01-10 23:59:59  2123700   \n",
       "2  2018-01-12 23:59:59  4243100   \n",
       "3  2018-01-16 23:59:59  3444900   \n",
       "4  2018-01-18 23:59:59  2649600   \n",
       "\n",
       "                                              period  \n",
       "0  Выдача наличных денежных средств по УС 1024650...  \n",
       "1  Выдача наличных денежных средств по УС 1024650...  \n",
       "2  Выдача наличных денежных средств по УС 1024650...  \n",
       "3  Выдача наличных денежных средств по УС 1024650...  \n",
       "4  Выдача наличных денежных средств по УС 1024650...  "
      ]
     },
     "execution_count": 3,
     "metadata": {},
     "output_type": "execute_result"
    }
   ],
   "source": [
    "data_1 = pd.DataFrame(data_1)\n",
    "data_2 = pd.DataFrame(data_2)\n",
    "data_3 = pd.DataFrame(data_3)\n",
    "data_4 = pd.DataFrame(data_4)\n",
    "data_5 = pd.DataFrame(data_5)\n",
    "data_6 = pd.DataFrame(data_6)\n",
    "data_7 = pd.DataFrame(data_7)\n",
    "\n",
    "data_1 = data_1.rename(columns = {0:\"data\", 1:\"cash\", 2:\"period\"})\n",
    "data_2 = data_2.rename(columns = {0:\"data\", 1:\"cash\", 2:\"period\"})\n",
    "data_3 = data_3.rename(columns = {0:\"data\", 1:\"cash\", 2:\"period\"})\n",
    "data_4 = data_4.rename(columns = {0:\"data\", 1:\"cash\", 2:\"period\"})\n",
    "data_5 = data_5.rename(columns = {0:\"data\", 1:\"cash\", 2:\"period\"})\n",
    "data_6 = data_6.rename(columns = {0:\"data\", 1:\"cash\", 2:\"period\"})\n",
    "data_7 = data_7.rename(columns = {0:\"data\", 1:\"cash\", 2:\"period\"})\n",
    "\n",
    "data_1.head()"
   ]
  },
  {
   "cell_type": "markdown",
   "metadata": {},
   "source": [
    "Создаем функцию для извлечения необходимых данных из колонки period"
   ]
  },
  {
   "cell_type": "code",
   "execution_count": 5,
   "metadata": {},
   "outputs": [],
   "source": [
    "def bank(data):\n",
    "    pattern = r\"[\\d\\.]+\"\n",
    "    pattern_2 = r\"[\\.]+\"\n",
    "    bank = []\n",
    "    \n",
    "    for i in range(data.period.size):\n",
    "        link = re.findall(pattern, data.period[i])\n",
    "        link_bank = []\n",
    "        for i in link:\n",
    "            i = re.sub(pattern_2, \"/\", i)\n",
    "            link_bank.append(i)\n",
    "        bank.append(link_bank)\n",
    "\n",
    "    bank = pd.DataFrame(bank, columns = [\"bank\", \"data_1\", \"data_2\"])\n",
    "    \n",
    "    bank['data_1'] = pd.to_datetime(bank['data_1'], format=\"%d/%m/%Y\")\n",
    "    bank['data_2'] = pd.to_datetime(bank['data_2'], format=\"%d/%m/%Y\")\n",
    "    \n",
    "    return bank"
   ]
  },
  {
   "cell_type": "markdown",
   "metadata": {},
   "source": [
    "Применяем функцию bank "
   ]
  },
  {
   "cell_type": "code",
   "execution_count": 6,
   "metadata": {},
   "outputs": [
    {
     "data": {
      "text/html": [
       "<div>\n",
       "<style scoped>\n",
       "    .dataframe tbody tr th:only-of-type {\n",
       "        vertical-align: middle;\n",
       "    }\n",
       "\n",
       "    .dataframe tbody tr th {\n",
       "        vertical-align: top;\n",
       "    }\n",
       "\n",
       "    .dataframe thead th {\n",
       "        text-align: right;\n",
       "    }\n",
       "</style>\n",
       "<table border=\"1\" class=\"dataframe\">\n",
       "  <thead>\n",
       "    <tr style=\"text-align: right;\">\n",
       "      <th></th>\n",
       "      <th>bank</th>\n",
       "      <th>data_1</th>\n",
       "      <th>data_2</th>\n",
       "    </tr>\n",
       "  </thead>\n",
       "  <tbody>\n",
       "    <tr>\n",
       "      <th>0</th>\n",
       "      <td>10246504</td>\n",
       "      <td>2017-12-29</td>\n",
       "      <td>2018-01-08</td>\n",
       "    </tr>\n",
       "    <tr>\n",
       "      <th>1</th>\n",
       "      <td>10246504</td>\n",
       "      <td>2018-01-08</td>\n",
       "      <td>2018-01-10</td>\n",
       "    </tr>\n",
       "    <tr>\n",
       "      <th>2</th>\n",
       "      <td>10246504</td>\n",
       "      <td>2018-01-10</td>\n",
       "      <td>2018-01-12</td>\n",
       "    </tr>\n",
       "    <tr>\n",
       "      <th>3</th>\n",
       "      <td>10246504</td>\n",
       "      <td>2018-01-12</td>\n",
       "      <td>2018-01-16</td>\n",
       "    </tr>\n",
       "    <tr>\n",
       "      <th>4</th>\n",
       "      <td>10246504</td>\n",
       "      <td>2018-01-16</td>\n",
       "      <td>2018-01-18</td>\n",
       "    </tr>\n",
       "  </tbody>\n",
       "</table>\n",
       "</div>"
      ],
      "text/plain": [
       "       bank     data_1     data_2\n",
       "0  10246504 2017-12-29 2018-01-08\n",
       "1  10246504 2018-01-08 2018-01-10\n",
       "2  10246504 2018-01-10 2018-01-12\n",
       "3  10246504 2018-01-12 2018-01-16\n",
       "4  10246504 2018-01-16 2018-01-18"
      ]
     },
     "execution_count": 6,
     "metadata": {},
     "output_type": "execute_result"
    }
   ],
   "source": [
    "bank_1 = bank(data_1)\n",
    "bank_2 = bank(data_2)\n",
    "bank_3 = bank(data_3)\n",
    "bank_4 = bank(data_4)\n",
    "bank_5 = bank(data_5)\n",
    "bank_6 = bank(data_6)\n",
    "bank_7 = bank(data_7)\n",
    "\n",
    "bank_1.head()"
   ]
  },
  {
   "cell_type": "markdown",
   "metadata": {},
   "source": [
    "Удаляем ненужные колонки"
   ]
  },
  {
   "cell_type": "code",
   "execution_count": 9,
   "metadata": {},
   "outputs": [],
   "source": [
    "data_1.drop(['period', 'data'], axis='columns', inplace=True)\n",
    "data_2.drop(['period', 'data'], axis='columns', inplace=True)\n",
    "data_3.drop(['period', 'data'], axis='columns', inplace=True)\n",
    "data_4.drop(['period', 'data'], axis='columns', inplace=True)\n",
    "data_5.drop(['period', 'data'], axis='columns', inplace=True)\n",
    "data_6.drop(['period', 'data'], axis='columns', inplace=True)\n",
    "data_7.drop(['period', 'data'], axis='columns', inplace=True)"
   ]
  },
  {
   "cell_type": "markdown",
   "metadata": {},
   "source": [
    "Обьединяем таблицы "
   ]
  },
  {
   "cell_type": "code",
   "execution_count": 10,
   "metadata": {},
   "outputs": [
    {
     "data": {
      "text/html": [
       "<div>\n",
       "<style scoped>\n",
       "    .dataframe tbody tr th:only-of-type {\n",
       "        vertical-align: middle;\n",
       "    }\n",
       "\n",
       "    .dataframe tbody tr th {\n",
       "        vertical-align: top;\n",
       "    }\n",
       "\n",
       "    .dataframe thead th {\n",
       "        text-align: right;\n",
       "    }\n",
       "</style>\n",
       "<table border=\"1\" class=\"dataframe\">\n",
       "  <thead>\n",
       "    <tr style=\"text-align: right;\">\n",
       "      <th></th>\n",
       "      <th>bank</th>\n",
       "      <th>data_1</th>\n",
       "      <th>data_2</th>\n",
       "      <th>cash</th>\n",
       "    </tr>\n",
       "  </thead>\n",
       "  <tbody>\n",
       "    <tr>\n",
       "      <th>0</th>\n",
       "      <td>10246504</td>\n",
       "      <td>2017-12-29</td>\n",
       "      <td>2018-01-08</td>\n",
       "      <td>6156300</td>\n",
       "    </tr>\n",
       "    <tr>\n",
       "      <th>1</th>\n",
       "      <td>10246504</td>\n",
       "      <td>2018-01-08</td>\n",
       "      <td>2018-01-10</td>\n",
       "      <td>2123700</td>\n",
       "    </tr>\n",
       "    <tr>\n",
       "      <th>2</th>\n",
       "      <td>10246504</td>\n",
       "      <td>2018-01-10</td>\n",
       "      <td>2018-01-12</td>\n",
       "      <td>4243100</td>\n",
       "    </tr>\n",
       "    <tr>\n",
       "      <th>3</th>\n",
       "      <td>10246504</td>\n",
       "      <td>2018-01-12</td>\n",
       "      <td>2018-01-16</td>\n",
       "      <td>3444900</td>\n",
       "    </tr>\n",
       "    <tr>\n",
       "      <th>4</th>\n",
       "      <td>10246504</td>\n",
       "      <td>2018-01-16</td>\n",
       "      <td>2018-01-18</td>\n",
       "      <td>2649600</td>\n",
       "    </tr>\n",
       "  </tbody>\n",
       "</table>\n",
       "</div>"
      ],
      "text/plain": [
       "       bank     data_1     data_2     cash\n",
       "0  10246504 2017-12-29 2018-01-08  6156300\n",
       "1  10246504 2018-01-08 2018-01-10  2123700\n",
       "2  10246504 2018-01-10 2018-01-12  4243100\n",
       "3  10246504 2018-01-12 2018-01-16  3444900\n",
       "4  10246504 2018-01-16 2018-01-18  2649600"
      ]
     },
     "execution_count": 10,
     "metadata": {},
     "output_type": "execute_result"
    }
   ],
   "source": [
    "df_1 = pd.concat((bank_1, data_1),axis=1)\n",
    "df_2 = pd.concat((bank_2, data_2),axis=1)\n",
    "df_3 = pd.concat((bank_3, data_3),axis=1)\n",
    "df_4 = pd.concat((bank_4, data_4),axis=1)\n",
    "df_5 = pd.concat((bank_5, data_5),axis=1)\n",
    "df_6 = pd.concat((bank_6, data_6),axis=1)\n",
    "df_7 = pd.concat((bank_7, data_7),axis=1)\n",
    "\n",
    "df_1.head()"
   ]
  },
  {
   "cell_type": "markdown",
   "metadata": {},
   "source": [
    "Изображение данных по первому и второму банкомату"
   ]
  },
  {
   "cell_type": "code",
   "execution_count": 12,
   "metadata": {},
   "outputs": [
    {
     "data": {
      "text/plain": [
       "[<matplotlib.lines.Line2D at 0x7fefcc69b630>]"
      ]
     },
     "execution_count": 12,
     "metadata": {},
     "output_type": "execute_result"
    },
    {
     "data": {
      "image/png": "[encoded data removed]",
      "text/plain": [
       "<Figure size 432x288 with 1 Axes>"
      ]
     },
     "metadata": {
      "needs_background": "light"
     },
     "output_type": "display_data"
    }
   ],
   "source": [
    "plt.plot(df_1.data_1, df_1.cash)"
   ]
  },
  {
   "cell_type": "code",
   "execution_count": 13,
   "metadata": {},
   "outputs": [
    {
     "data": {
      "text/plain": [
       "[<matplotlib.lines.Line2D at 0x7fefca3540b8>]"
      ]
     },
     "execution_count": 13,
     "metadata": {},
     "output_type": "execute_result"
    },
    {
     "data": {
      "image/png": "[encoded data removed]",
      "text/plain": [
       "<Figure size 432x288 with 1 Axes>"
      ]
     },
     "metadata": {
      "needs_background": "light"
     },
     "output_type": "display_data"
    }
   ],
   "source": [
    "plt.plot(df_2.data_1, df_2.cash)"
   ]
  },
  {
   "cell_type": "markdown",
   "metadata": {},
   "source": [
    "Создаем функцию features для создания необходимых фич (параметров) для обучения"
   ]
  },
  {
   "cell_type": "code",
   "execution_count": 14,
   "metadata": {},
   "outputs": [],
   "source": [
    "def features(df):\n",
    "    \n",
    "    df_days = []\n",
    "    holiday_date = {1:[1,2,3,4,5,6,7,8], 2: [23], 3: [8], 4:[], 5: [1,9], 6: [12],7:[], 8:[], 9:[], 10:[], 11:[4], 12:[]} # празднечные дни в месяцах\n",
    "\n",
    "    for i in range(df.data_1.size):\n",
    "        start_date = df.data_1[i]\n",
    "        end_date = df.data_2[i]\n",
    "    \n",
    "        weekend = 0 # выходные дни\n",
    "        weekdays = 0 # будни\n",
    "        holiday = 0 # празднечные дни\n",
    "        # времена года\n",
    "        winter = False \n",
    "        spring = False \n",
    "        summer = False \n",
    "        fall = False \n",
    "        # конец или начало месяца\n",
    "        end_or_begin_month = False\n",
    "        # месяцы\n",
    "        months = set()\n",
    "\n",
    "        day_count = (end_date - start_date).days # количество дней\n",
    "        for single_date in [d for d in (start_date + datetime.timedelta(days=n) for n in range(day_count)) if d <= end_date]: \n",
    "            \n",
    "            if single_date.strftime(\"%A\") == 'Saturday' or single_date.strftime(\"%A\") == 'Sunday':\n",
    "                weekend += 1\n",
    "            else:\n",
    "                weekdays += 1\n",
    "            \n",
    "            month = holiday_date[single_date.month]\n",
    "            if len(month) != 0:\n",
    "                for day in month:\n",
    "                    if day == single_date.day:\n",
    "                        holiday += 1\n",
    "            \n",
    "            if single_date.day < 10 or single_date.day > 25:\n",
    "                end_or_begin_month = True\n",
    "        \n",
    "            months.add(single_date.strftime(\"%m\"))  \n",
    "        for month in months:\n",
    "            if month == \"01\" or month == \"02\" or month == \"12\":\n",
    "                winter = True\n",
    "            elif month == \"03\" or month == \"04\" or month == \"05\":\n",
    "                spring = True\n",
    "            elif month == \"06\" or month == \"07\" or month == \"08\":\n",
    "                summer = True\n",
    "            elif month == \"09\" or month == \"10\" or month == \"11\":\n",
    "                fall = True\n",
    "    \n",
    "    \n",
    "        df_day = [day_count, weekend, holiday, winter, spring, summer, fall, end_or_begin_month]\n",
    "        df_days.append(df_day)\n",
    "\n",
    "    days = pd.DataFrame(df_days, columns = [\"weekdays\", \"weekend\", \"holiday\", \"winter\", \"spring\", \"summer\", \"fall\", \"end_or_begin_month\"])   \n",
    "    \n",
    "    return days\n"
   ]
  },
  {
   "cell_type": "markdown",
   "metadata": {},
   "source": [
    "Применяем функцию features"
   ]
  },
  {
   "cell_type": "code",
   "execution_count": 15,
   "metadata": {},
   "outputs": [
    {
     "data": {
      "text/html": [
       "<div>\n",
       "<style scoped>\n",
       "    .dataframe tbody tr th:only-of-type {\n",
       "        vertical-align: middle;\n",
       "    }\n",
       "\n",
       "    .dataframe tbody tr th {\n",
       "        vertical-align: top;\n",
       "    }\n",
       "\n",
       "    .dataframe thead th {\n",
       "        text-align: right;\n",
       "    }\n",
       "</style>\n",
       "<table border=\"1\" class=\"dataframe\">\n",
       "  <thead>\n",
       "    <tr style=\"text-align: right;\">\n",
       "      <th></th>\n",
       "      <th>weekdays</th>\n",
       "      <th>weekend</th>\n",
       "      <th>holiday</th>\n",
       "      <th>winter</th>\n",
       "      <th>spring</th>\n",
       "      <th>summer</th>\n",
       "      <th>fall</th>\n",
       "      <th>end_or_begin_month</th>\n",
       "    </tr>\n",
       "  </thead>\n",
       "  <tbody>\n",
       "    <tr>\n",
       "      <th>0</th>\n",
       "      <td>10</td>\n",
       "      <td>4</td>\n",
       "      <td>7</td>\n",
       "      <td>True</td>\n",
       "      <td>False</td>\n",
       "      <td>False</td>\n",
       "      <td>False</td>\n",
       "      <td>True</td>\n",
       "    </tr>\n",
       "    <tr>\n",
       "      <th>1</th>\n",
       "      <td>2</td>\n",
       "      <td>0</td>\n",
       "      <td>1</td>\n",
       "      <td>True</td>\n",
       "      <td>False</td>\n",
       "      <td>False</td>\n",
       "      <td>False</td>\n",
       "      <td>True</td>\n",
       "    </tr>\n",
       "    <tr>\n",
       "      <th>2</th>\n",
       "      <td>2</td>\n",
       "      <td>0</td>\n",
       "      <td>0</td>\n",
       "      <td>True</td>\n",
       "      <td>False</td>\n",
       "      <td>False</td>\n",
       "      <td>False</td>\n",
       "      <td>False</td>\n",
       "    </tr>\n",
       "    <tr>\n",
       "      <th>3</th>\n",
       "      <td>4</td>\n",
       "      <td>2</td>\n",
       "      <td>0</td>\n",
       "      <td>True</td>\n",
       "      <td>False</td>\n",
       "      <td>False</td>\n",
       "      <td>False</td>\n",
       "      <td>False</td>\n",
       "    </tr>\n",
       "    <tr>\n",
       "      <th>4</th>\n",
       "      <td>2</td>\n",
       "      <td>0</td>\n",
       "      <td>0</td>\n",
       "      <td>True</td>\n",
       "      <td>False</td>\n",
       "      <td>False</td>\n",
       "      <td>False</td>\n",
       "      <td>False</td>\n",
       "    </tr>\n",
       "  </tbody>\n",
       "</table>\n",
       "</div>"
      ],
      "text/plain": [
       "   weekdays  weekend  holiday  winter  spring  summer   fall  \\\n",
       "0        10        4        7    True   False   False  False   \n",
       "1         2        0        1    True   False   False  False   \n",
       "2         2        0        0    True   False   False  False   \n",
       "3         4        2        0    True   False   False  False   \n",
       "4         2        0        0    True   False   False  False   \n",
       "\n",
       "   end_or_begin_month  \n",
       "0                True  \n",
       "1                True  \n",
       "2               False  \n",
       "3               False  \n",
       "4               False  "
      ]
     },
     "execution_count": 15,
     "metadata": {},
     "output_type": "execute_result"
    }
   ],
   "source": [
    "features_1 = features(df_1) \n",
    "features_2 = features(df_2)\n",
    "features_3 = features(df_3)\n",
    "features_4 = features(df_4)\n",
    "features_5 = features(df_5)\n",
    "features_6 = features(df_6)\n",
    "features_7 = features(df_7)\n",
    "\n",
    "features_1.head()"
   ]
  },
  {
   "cell_type": "code",
   "execution_count": 16,
   "metadata": {},
   "outputs": [
    {
     "data": {
      "text/html": [
       "<div>\n",
       "<style scoped>\n",
       "    .dataframe tbody tr th:only-of-type {\n",
       "        vertical-align: middle;\n",
       "    }\n",
       "\n",
       "    .dataframe tbody tr th {\n",
       "        vertical-align: top;\n",
       "    }\n",
       "\n",
       "    .dataframe thead th {\n",
       "        text-align: right;\n",
       "    }\n",
       "</style>\n",
       "<table border=\"1\" class=\"dataframe\">\n",
       "  <thead>\n",
       "    <tr style=\"text-align: right;\">\n",
       "      <th></th>\n",
       "      <th>bank</th>\n",
       "      <th>data_1</th>\n",
       "      <th>data_2</th>\n",
       "      <th>cash</th>\n",
       "      <th>weekdays</th>\n",
       "      <th>weekend</th>\n",
       "      <th>holiday</th>\n",
       "      <th>winter</th>\n",
       "      <th>spring</th>\n",
       "      <th>summer</th>\n",
       "      <th>fall</th>\n",
       "      <th>end_or_begin_month</th>\n",
       "    </tr>\n",
       "  </thead>\n",
       "  <tbody>\n",
       "    <tr>\n",
       "      <th>0</th>\n",
       "      <td>10246504</td>\n",
       "      <td>2017-12-29</td>\n",
       "      <td>2018-01-08</td>\n",
       "      <td>6156300</td>\n",
       "      <td>10</td>\n",
       "      <td>4</td>\n",
       "      <td>7</td>\n",
       "      <td>True</td>\n",
       "      <td>False</td>\n",
       "      <td>False</td>\n",
       "      <td>False</td>\n",
       "      <td>True</td>\n",
       "    </tr>\n",
       "    <tr>\n",
       "      <th>1</th>\n",
       "      <td>10246504</td>\n",
       "      <td>2018-01-08</td>\n",
       "      <td>2018-01-10</td>\n",
       "      <td>2123700</td>\n",
       "      <td>2</td>\n",
       "      <td>0</td>\n",
       "      <td>1</td>\n",
       "      <td>True</td>\n",
       "      <td>False</td>\n",
       "      <td>False</td>\n",
       "      <td>False</td>\n",
       "      <td>True</td>\n",
       "    </tr>\n",
       "    <tr>\n",
       "      <th>2</th>\n",
       "      <td>10246504</td>\n",
       "      <td>2018-01-10</td>\n",
       "      <td>2018-01-12</td>\n",
       "      <td>4243100</td>\n",
       "      <td>2</td>\n",
       "      <td>0</td>\n",
       "      <td>0</td>\n",
       "      <td>True</td>\n",
       "      <td>False</td>\n",
       "      <td>False</td>\n",
       "      <td>False</td>\n",
       "      <td>False</td>\n",
       "    </tr>\n",
       "    <tr>\n",
       "      <th>3</th>\n",
       "      <td>10246504</td>\n",
       "      <td>2018-01-12</td>\n",
       "      <td>2018-01-16</td>\n",
       "      <td>3444900</td>\n",
       "      <td>4</td>\n",
       "      <td>2</td>\n",
       "      <td>0</td>\n",
       "      <td>True</td>\n",
       "      <td>False</td>\n",
       "      <td>False</td>\n",
       "      <td>False</td>\n",
       "      <td>False</td>\n",
       "    </tr>\n",
       "    <tr>\n",
       "      <th>4</th>\n",
       "      <td>10246504</td>\n",
       "      <td>2018-01-16</td>\n",
       "      <td>2018-01-18</td>\n",
       "      <td>2649600</td>\n",
       "      <td>2</td>\n",
       "      <td>0</td>\n",
       "      <td>0</td>\n",
       "      <td>True</td>\n",
       "      <td>False</td>\n",
       "      <td>False</td>\n",
       "      <td>False</td>\n",
       "      <td>False</td>\n",
       "    </tr>\n",
       "  </tbody>\n",
       "</table>\n",
       "</div>"
      ],
      "text/plain": [
       "       bank     data_1     data_2     cash  weekdays  weekend  holiday  \\\n",
       "0  10246504 2017-12-29 2018-01-08  6156300        10        4        7   \n",
       "1  10246504 2018-01-08 2018-01-10  2123700         2        0        1   \n",
       "2  10246504 2018-01-10 2018-01-12  4243100         2        0        0   \n",
       "3  10246504 2018-01-12 2018-01-16  3444900         4        2        0   \n",
       "4  10246504 2018-01-16 2018-01-18  2649600         2        0        0   \n",
       "\n",
       "   winter  spring  summer   fall  end_or_begin_month  \n",
       "0    True   False   False  False                True  \n",
       "1    True   False   False  False                True  \n",
       "2    True   False   False  False               False  \n",
       "3    True   False   False  False               False  \n",
       "4    True   False   False  False               False  "
      ]
     },
     "execution_count": 16,
     "metadata": {},
     "output_type": "execute_result"
    }
   ],
   "source": [
    "df_1 = pd.concat((df_1, features_1), axis=1)\n",
    "df_2 = pd.concat((df_2, features_2), axis=1)\n",
    "df_3 = pd.concat((df_3, features_3), axis=1)\n",
    "df_4 = pd.concat((df_4, features_4), axis=1)\n",
    "df_5 = pd.concat((df_5, features_5), axis=1)\n",
    "df_6 = pd.concat((df_6, features_6), axis=1)\n",
    "df_7 = pd.concat((df_7, features_7), axis=1)\n",
    "\n",
    "df_1.head()"
   ]
  },
  {
   "cell_type": "markdown",
   "metadata": {},
   "source": [
    "Создаем функцию для нормализации данных по колонкам"
   ]
  },
  {
   "cell_type": "code",
   "execution_count": 17,
   "metadata": {},
   "outputs": [],
   "source": [
    "def norm(df, name_col):\n",
    "    min = df[name_col].min()\n",
    "    max = df[name_col].max()\n",
    "\n",
    "    df[name_col] = (df[name_col] - min)/(max - min)"
   ]
  },
  {
   "cell_type": "markdown",
   "metadata": {},
   "source": [
    "Создаем функцию для нормализации данных"
   ]
  },
  {
   "cell_type": "code",
   "execution_count": 19,
   "metadata": {},
   "outputs": [],
   "source": [
    "def norm_df(df):\n",
    "    for name in ['cash', 'weekdays', 'weekend', 'holiday']:\n",
    "        norm(df, name)\n"
   ]
  },
  {
   "cell_type": "code",
   "execution_count": 20,
   "metadata": {},
   "outputs": [],
   "source": [
    "df_1.drop(['bank','data_1','data_2'], axis='columns', inplace=True)\n",
    "df_2.drop(['bank','data_1','data_2'], axis='columns', inplace=True)\n",
    "df_3.drop(['bank','data_1','data_2'], axis='columns', inplace=True)\n",
    "df_4.drop(['bank','data_1','data_2'], axis='columns', inplace=True)\n",
    "df_5.drop(['bank','data_1','data_2'], axis='columns', inplace=True)\n",
    "df_6.drop(['bank','data_1','data_2'], axis='columns', inplace=True)\n",
    "df_7.drop(['bank','data_1','data_2'], axis='columns', inplace=True)"
   ]
  },
  {
   "cell_type": "markdown",
   "metadata": {},
   "source": [
    "Изменяем тип данных во всех колонках на int64"
   ]
  },
  {
   "cell_type": "code",
   "execution_count": 21,
   "metadata": {},
   "outputs": [],
   "source": [
    "df_1 = df_1.astype('int64')\n",
    "df_2 = df_2.astype('int64')\n",
    "df_3 = df_3.astype('int64')\n",
    "df_4 = df_4.astype('int64')\n",
    "df_5 = df_5.astype('int64')\n",
    "df_6 = df_6.astype('int64')\n",
    "df_7 = df_7.astype('int64')"
   ]
  },
  {
   "cell_type": "markdown",
   "metadata": {},
   "source": [
    "Нормализируем данные"
   ]
  },
  {
   "cell_type": "code",
   "execution_count": 22,
   "metadata": {},
   "outputs": [],
   "source": [
    "norm_df(df_1)\n",
    "norm_df(df_2)\n",
    "norm_df(df_3)\n",
    "norm_df(df_4)\n",
    "norm_df(df_5)\n",
    "norm_df(df_6)\n",
    "norm_df(df_7)"
   ]
  },
  {
   "cell_type": "markdown",
   "metadata": {},
   "source": [
    "Объединим все данные по разным банкоматам в одни"
   ]
  },
  {
   "cell_type": "code",
   "execution_count": 34,
   "metadata": {},
   "outputs": [
    {
     "data": {
      "text/html": [
       "<div>\n",
       "<style scoped>\n",
       "    .dataframe tbody tr th:only-of-type {\n",
       "        vertical-align: middle;\n",
       "    }\n",
       "\n",
       "    .dataframe tbody tr th {\n",
       "        vertical-align: top;\n",
       "    }\n",
       "\n",
       "    .dataframe thead th {\n",
       "        text-align: right;\n",
       "    }\n",
       "</style>\n",
       "<table border=\"1\" class=\"dataframe\">\n",
       "  <thead>\n",
       "    <tr style=\"text-align: right;\">\n",
       "      <th></th>\n",
       "      <th>cash</th>\n",
       "      <th>weekdays</th>\n",
       "      <th>weekend</th>\n",
       "      <th>holiday</th>\n",
       "      <th>winter</th>\n",
       "      <th>spring</th>\n",
       "      <th>summer</th>\n",
       "      <th>fall</th>\n",
       "      <th>end_or_begin_month</th>\n",
       "    </tr>\n",
       "  </thead>\n",
       "  <tbody>\n",
       "    <tr>\n",
       "      <th>0</th>\n",
       "      <td>0.623825</td>\n",
       "      <td>1.000000</td>\n",
       "      <td>1.0</td>\n",
       "      <td>1.000000</td>\n",
       "      <td>1</td>\n",
       "      <td>0</td>\n",
       "      <td>0</td>\n",
       "      <td>0</td>\n",
       "      <td>1</td>\n",
       "    </tr>\n",
       "    <tr>\n",
       "      <th>1</th>\n",
       "      <td>0.183551</td>\n",
       "      <td>0.111111</td>\n",
       "      <td>0.0</td>\n",
       "      <td>0.142857</td>\n",
       "      <td>1</td>\n",
       "      <td>0</td>\n",
       "      <td>0</td>\n",
       "      <td>0</td>\n",
       "      <td>1</td>\n",
       "    </tr>\n",
       "    <tr>\n",
       "      <th>2</th>\n",
       "      <td>0.414944</td>\n",
       "      <td>0.111111</td>\n",
       "      <td>0.0</td>\n",
       "      <td>0.000000</td>\n",
       "      <td>1</td>\n",
       "      <td>0</td>\n",
       "      <td>0</td>\n",
       "      <td>0</td>\n",
       "      <td>0</td>\n",
       "    </tr>\n",
       "    <tr>\n",
       "      <th>3</th>\n",
       "      <td>0.327798</td>\n",
       "      <td>0.333333</td>\n",
       "      <td>0.5</td>\n",
       "      <td>0.000000</td>\n",
       "      <td>1</td>\n",
       "      <td>0</td>\n",
       "      <td>0</td>\n",
       "      <td>0</td>\n",
       "      <td>0</td>\n",
       "    </tr>\n",
       "    <tr>\n",
       "      <th>4</th>\n",
       "      <td>0.240968</td>\n",
       "      <td>0.111111</td>\n",
       "      <td>0.0</td>\n",
       "      <td>0.000000</td>\n",
       "      <td>1</td>\n",
       "      <td>0</td>\n",
       "      <td>0</td>\n",
       "      <td>0</td>\n",
       "      <td>0</td>\n",
       "    </tr>\n",
       "  </tbody>\n",
       "</table>\n",
       "</div>"
      ],
      "text/plain": [
       "       cash  weekdays  weekend   holiday  winter  spring  summer  fall  \\\n",
       "0  0.623825  1.000000      1.0  1.000000       1       0       0     0   \n",
       "1  0.183551  0.111111      0.0  0.142857       1       0       0     0   \n",
       "2  0.414944  0.111111      0.0  0.000000       1       0       0     0   \n",
       "3  0.327798  0.333333      0.5  0.000000       1       0       0     0   \n",
       "4  0.240968  0.111111      0.0  0.000000       1       0       0     0   \n",
       "\n",
       "   end_or_begin_month  \n",
       "0                   1  \n",
       "1                   1  \n",
       "2                   0  \n",
       "3                   0  \n",
       "4                   0  "
      ]
     },
     "execution_count": 34,
     "metadata": {},
     "output_type": "execute_result"
    }
   ],
   "source": [
    "df_1_2 = df_1.append(df_2, ignore_index=True)\n",
    "df_3_4 = df_3.append(df_4, ignore_index=True)\n",
    "df_5_6 = df_5.append(df_6, ignore_index=True)\n",
    "df_1234 = df_1_2.append(df_3_4, ignore_index=True)\n",
    "df_567 = df_5_6.append(df_7, ignore_index=True)\n",
    "\n",
    "df = df_1234.append(df_567, ignore_index=True)\n",
    "df.head()"
   ]
  },
  {
   "cell_type": "markdown",
   "metadata": {},
   "source": [
    "Данные готовы к обучению, создаем нейронную сеть"
   ]
  },
  {
   "cell_type": "markdown",
   "metadata": {},
   "source": [
    "Подключаем необходимые библиотеки"
   ]
  },
  {
   "cell_type": "code",
   "execution_count": 55,
   "metadata": {},
   "outputs": [],
   "source": [
    "from sklearn.model_selection import train_test_split\n",
    "from sklearn.tree import DecisionTreeRegressor\n",
    "from sklearn.ensemble import AdaBoostRegressor\n"
   ]
  },
  {
   "cell_type": "code",
   "execution_count": 117,
   "metadata": {},
   "outputs": [],
   "source": [
    "def model(df):\n",
    "    \n",
    "    X = df[[\"weekdays\", \"weekend\", \"holiday\", \"winter\", \"spring\", \"summer\", \"fall\", \"end_or_begin_month\"]]\n",
    "    y = df[\"cash\"]\n",
    "    \n",
    "    X_train, X_test, y_train, y_test = train_test_split(X, y, test_size=0.10, random_state=8)\n",
    "   \n",
    "    score = []\n",
    "    \n",
    "    for i in range(1, 16):\n",
    "        regr = AdaBoostRegressor(DecisionTreeRegressor(max_depth=i),\n",
    "                          n_estimators=10, random_state=0)\n",
    "        regr.fit(X_train, y_train)\n",
    "        \n",
    "        s = [i, regr.score(X_train, y_train), regr.score(X_test, y_test)]\n",
    "        score.append(s)\n",
    "    \n",
    "    data_score = pd.DataFrame(score, columns = [\"max_depth\", \"score_train\", \"score_test\"])\n",
    "    return data_score"
   ]
  },
  {
   "cell_type": "code",
   "execution_count": 118,
   "metadata": {},
   "outputs": [
    {
     "name": "stdout",
     "output_type": "stream",
     "text": [
      "df (67, 9)\n",
      "    max_depth  score_train  score_test\n",
      "0           1     0.338831   -0.278644\n",
      "1           2     0.501112   -0.547460\n",
      "2           3     0.569950   -0.495922\n",
      "3           4     0.738945   -0.034324\n",
      "4           5     0.724226   -0.046468\n",
      "5           6     0.791322    0.089852\n",
      "6           7     0.797750    0.047824\n",
      "7           8     0.787864    0.317910\n",
      "8           9     0.800586    0.051948\n",
      "9          10     0.800586    0.051948\n",
      "10         11     0.800586    0.051948\n",
      "11         12     0.800586    0.051948\n",
      "12         13     0.800586    0.051948\n",
      "13         14     0.800586    0.051948\n",
      "14         15     0.800586    0.051948\n",
      "df (253, 9)\n",
      "    max_depth  score_train  score_test\n",
      "0           1     0.368276    0.487007\n",
      "1           2     0.517310    0.643010\n",
      "2           3     0.596115    0.697692\n",
      "3           4     0.654689    0.742108\n",
      "4           5     0.647476    0.640812\n",
      "5           6     0.647963    0.718642\n",
      "6           7     0.657464    0.620079\n",
      "7           8     0.673246    0.635820\n",
      "8           9     0.673665    0.632325\n",
      "9          10     0.669866    0.617093\n",
      "10         11     0.669866    0.617093\n",
      "11         12     0.669866    0.617093\n",
      "12         13     0.669866    0.617093\n",
      "13         14     0.669866    0.617093\n",
      "14         15     0.669866    0.617093\n",
      "df (286, 9)\n",
      "    max_depth  score_train  score_test\n",
      "0           1     0.218707    0.173853\n",
      "1           2     0.392643    0.414847\n",
      "2           3     0.477113    0.444505\n",
      "3           4     0.526000    0.446391\n",
      "4           5     0.537576    0.464215\n",
      "5           6     0.563417    0.463583\n",
      "6           7     0.540888    0.531394\n",
      "7           8     0.563812    0.513451\n",
      "8           9     0.554091    0.499903\n",
      "9          10     0.554091    0.499903\n",
      "10         11     0.554091    0.499903\n",
      "11         12     0.554091    0.499903\n",
      "12         13     0.554091    0.499903\n",
      "13         14     0.554091    0.499903\n",
      "14         15     0.554091    0.499903\n",
      "df (193, 9)\n",
      "    max_depth  score_train  score_test\n",
      "0           1     0.189550    0.180072\n",
      "1           2     0.249728    0.251851\n",
      "2           3     0.460065    0.303506\n",
      "3           4     0.500194    0.356425\n",
      "4           5     0.544334    0.259126\n",
      "5           6     0.579359    0.267853\n",
      "6           7     0.575520    0.259265\n",
      "7           8     0.572734    0.229642\n",
      "8           9     0.572784    0.241197\n",
      "9          10     0.567876    0.284479\n",
      "10         11     0.567876    0.284479\n",
      "11         12     0.567876    0.284479\n",
      "12         13     0.567876    0.284479\n",
      "13         14     0.567876    0.284479\n",
      "14         15     0.567876    0.284479\n",
      "df (162, 9)\n",
      "    max_depth  score_train  score_test\n",
      "0           1     0.086803    0.135015\n",
      "1           2     0.241873    0.263840\n",
      "2           3     0.331602    0.397422\n",
      "3           4     0.347577    0.316683\n",
      "4           5     0.397531    0.344184\n",
      "5           6     0.426319    0.393171\n",
      "6           7     0.425403    0.304457\n",
      "7           8     0.395123    0.323562\n",
      "8           9     0.439075    0.319246\n",
      "9          10     0.437937    0.304478\n",
      "10         11     0.440037    0.350107\n",
      "11         12     0.440037    0.350107\n",
      "12         13     0.440037    0.350107\n",
      "13         14     0.440037    0.350107\n",
      "14         15     0.440037    0.350107\n",
      "df (253, 9)\n",
      "    max_depth  score_train  score_test\n",
      "0           1     0.142492    0.088626\n",
      "1           2     0.278676    0.198849\n",
      "2           3     0.420668    0.227267\n",
      "3           4     0.487316    0.178672\n",
      "4           5     0.561242    0.089877\n",
      "5           6     0.587482    0.188039\n",
      "6           7     0.620459    0.270649\n",
      "7           8     0.620486   -0.002979\n",
      "8           9     0.624934    0.138774\n",
      "9          10     0.620611    0.181476\n",
      "10         11     0.617945    0.188864\n",
      "11         12     0.619165    0.194382\n",
      "12         13     0.619165    0.194382\n",
      "13         14     0.619165    0.194382\n",
      "14         15     0.619165    0.194382\n",
      "df (294, 9)\n",
      "    max_depth  score_train  score_test\n",
      "0           1     0.359045    0.594007\n",
      "1           2     0.375182    0.551314\n",
      "2           3     0.490222    0.557691\n",
      "3           4     0.494351    0.519488\n",
      "4           5     0.555264    0.446073\n",
      "5           6     0.578573    0.349825\n",
      "6           7     0.579436    0.412520\n",
      "7           8     0.604804    0.487659\n",
      "8           9     0.592797    0.341292\n",
      "9          10     0.598827    0.320196\n",
      "10         11     0.603313    0.316910\n",
      "11         12     0.603313    0.316910\n",
      "12         13     0.603313    0.316910\n",
      "13         14     0.603313    0.316910\n",
      "14         15     0.603313    0.316910\n",
      "df (1438, 9)\n",
      "    max_depth  score_train  score_test\n",
      "0           1     0.216580    0.254227\n",
      "1           2     0.280350    0.363574\n",
      "2           3     0.374816    0.437626\n",
      "3           4     0.422937    0.387434\n",
      "4           5     0.496024    0.451334\n",
      "5           6     0.535092    0.423724\n",
      "6           7     0.524583    0.371276\n",
      "7           8     0.553426    0.380417\n",
      "8           9     0.553095    0.342273\n",
      "9          10     0.543006    0.290084\n",
      "10         11     0.553253    0.348642\n",
      "11         12     0.577270    0.389654\n",
      "12         13     0.590581    0.373626\n",
      "13         14     0.564089    0.316017\n",
      "14         15     0.602721    0.371750\n"
     ]
    }
   ],
   "source": [
    "print(\"df\", df_1.shape)\n",
    "data_score_1 = model(df_1)\n",
    "print(data_score_1)\n",
    "print(\"df\", df_2.shape)\n",
    "data_score_2 = model(df_2)\n",
    "print(data_score_2)\n",
    "print(\"df\", df_3.shape)\n",
    "data_score_3 = model(df_3)\n",
    "print(data_score_3)\n",
    "print(\"df\", df_4.shape)\n",
    "data_score_4 = model(df_4)\n",
    "print(data_score_4)\n",
    "print(\"df\", df_5.shape)\n",
    "data_score_5 = model(df_5)\n",
    "print(data_score_5)\n",
    "print(\"df\", df_2.shape)\n",
    "data_score_6 = model(df_6)\n",
    "print(data_score_6)\n",
    "print(\"df\", df_7.shape)\n",
    "data_score_7 = model(df_7)\n",
    "print(data_score_7)\n",
    "print(\"df\", df.shape)\n",
    "data_score = model(df)\n",
    "print(data_score)"
   ]
  },
  {
   "cell_type": "code",
   "execution_count": 127,
   "metadata": {},
   "outputs": [],
   "source": [
    "def plot(data_score):\n",
    "    plt.plot(data_score.max_depth, data_score.score_train, c=\"g\", label=\"train\", linewidth=2)\n",
    "    plt.plot(data_score.max_depth, data_score.score_test, c=\"r\", label=\"test\", linewidth=2)"
   ]
  },
  {
   "cell_type": "code",
   "execution_count": 130,
   "metadata": {},
   "outputs": [
    {
     "name": "stdout",
     "output_type": "stream",
     "text": [
      "10246504_2018 None\n"
     ]
    },
    {
     "data": {
      "image/png": "[encoded data removed]",
      "text/plain": [
       "<Figure size 432x288 with 1 Axes>"
      ]
     },
     "metadata": {
      "needs_background": "light"
     },
     "output_type": "display_data"
    }
   ],
   "source": [
    "print(\"10246504_2018\", plot(data_score_1))"
   ]
  },
  {
   "cell_type": "code",
   "execution_count": 131,
   "metadata": {},
   "outputs": [
    {
     "name": "stdout",
     "output_type": "stream",
     "text": [
      "170070_2018 None\n"
     ]
    },
    {
     "data": {
      "image/png": "[encoded data removed]",
      "text/plain": [
       "<Figure size 432x288 with 1 Axes>"
      ]
     },
     "metadata": {
      "needs_background": "light"
     },
     "output_type": "display_data"
    }
   ],
   "source": [
    "print(\"170070_2018\", plot(data_score_2))"
   ]
  },
  {
   "cell_type": "code",
   "execution_count": 132,
   "metadata": {},
   "outputs": [
    {
     "name": "stdout",
     "output_type": "stream",
     "text": [
      "170121_2018 None\n"
     ]
    },
    {
     "data": {
      "image/png": "[encoded data removed]",
      "text/plain": [
       "<Figure size 432x288 with 1 Axes>"
      ]
     },
     "metadata": {
      "needs_background": "light"
     },
     "output_type": "display_data"
    }
   ],
   "source": [
    "print(\"170121_2018\", plot(data_score_3))"
   ]
  },
  {
   "cell_type": "code",
   "execution_count": 133,
   "metadata": {},
   "outputs": [
    {
     "name": "stdout",
     "output_type": "stream",
     "text": [
      "170130_2018 None\n"
     ]
    },
    {
     "data": {
      "image/png": "[encoded data removed]",
      "text/plain": [
       "<Figure size 432x288 with 1 Axes>"
      ]
     },
     "metadata": {
      "needs_background": "light"
     },
     "output_type": "display_data"
    }
   ],
   "source": [
    "print(\"170130_2018\", plot(data_score_4))"
   ]
  },
  {
   "cell_type": "code",
   "execution_count": 134,
   "metadata": {},
   "outputs": [
    {
     "name": "stdout",
     "output_type": "stream",
     "text": [
      "201672_2018 None\n"
     ]
    },
    {
     "data": {
      "image/png": "[encoded data removed]",
      "text/plain": [
       "<Figure size 432x288 with 1 Axes>"
      ]
     },
     "metadata": {
      "needs_background": "light"
     },
     "output_type": "display_data"
    }
   ],
   "source": [
    "print(\"201672_2018\", plot(data_score_5))"
   ]
  },
  {
   "cell_type": "code",
   "execution_count": 135,
   "metadata": {},
   "outputs": [
    {
     "name": "stdout",
     "output_type": "stream",
     "text": [
      "258467_2018.csv None\n"
     ]
    },
    {
     "data": {
      "image/png": "[encoded data removed]",
      "text/plain": [
       "<Figure size 432x288 with 1 Axes>"
      ]
     },
     "metadata": {
      "needs_background": "light"
     },
     "output_type": "display_data"
    }
   ],
   "source": [
    "print(\"258467_2018.csv\", plot(data_score_6))"
   ]
  },
  {
   "cell_type": "code",
   "execution_count": 136,
   "metadata": {},
   "outputs": [
    {
     "name": "stdout",
     "output_type": "stream",
     "text": [
      "258469_2018 None\n"
     ]
    },
    {
     "data": {
      "image/png": "[encoded data removed]",
      "text/plain": [
       "<Figure size 432x288 with 1 Axes>"
      ]
     },
     "metadata": {
      "needs_background": "light"
     },
     "output_type": "display_data"
    }
   ],
   "source": [
    "print(\"258469_2018\", plot(data_score_7))"
   ]
  },
  {
   "cell_type": "code",
   "execution_count": 137,
   "metadata": {},
   "outputs": [
    {
     "name": "stdout",
     "output_type": "stream",
     "text": [
      "Все None\n"
     ]
    },
    {
     "data": {
      "image/png": "[encoded data removed]",
      "text/plain": [
       "<Figure size 432x288 with 1 Axes>"
      ]
     },
     "metadata": {
      "needs_background": "light"
     },
     "output_type": "display_data"
    }
   ],
   "source": [
    "print(\"Все\", plot(data_score))"
   ]
  },
  {
   "cell_type": "code",
   "execution_count": null,
   "metadata": {},
   "outputs": [],
   "source": []
  }
 ],
 "metadata": {
  "kernelspec": {
   "display_name": "Python 3",
   "language": "python",
   "name": "python3"
  },
  "language_info": {
   "codemirror_mode": {
    "name": "ipython",
    "version": 3
   },
   "file_extension": ".py",
   "mimetype": "text/x-python",
   "name": "python",
   "nbconvert_exporter": "python",
   "pygments_lexer": "ipython3",
   "version": "3.7.3"
  }
 },
 "nbformat": 4,
 "nbformat_minor": 4
}
